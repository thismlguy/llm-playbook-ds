{
 "cells": [
  {
   "cell_type": "markdown",
   "id": "a699c8ee",
   "metadata": {
    "pycharm": {
     "name": "#%% md\n"
    },
    "tags": []
   },
   "source": [
    "# Delta Airlines Twitter Customer Support Analysis\n",
    "\n",
    "In this notebook we will be analyzing tweets from users for Delta Air Lines support reps using OpenAI GPT3.5 API. The analysis is done in 2 steps:\n",
    "\n",
    "1. Intent identification: find out why a user is writing a tweet, this could be one of 4 reasons:\n",
    "    - Raise a complaint/grievance\n",
    "    - Ask a question\n",
    "    - Share a good experience\n",
    "    - Other reasons\n",
    "\n",
    "2. Reasons for complaints: for the tweets where a complaint is being raised, we want to identify the major causes which would be one of:\n",
    "    - Flight Cancellation\n",
    "    - Flight Delays\n",
    "    - Bad Flight Experience\n",
    "    - Lost/Damaged Luggage\n",
    "    - Flight Attendant Complaints\n",
    "    - Flight Booking Problems\n",
    "    - Poor Customer Service\n",
    "    - Other"
   ]
  },
  {
   "cell_type": "markdown",
   "id": "e9057b31",
   "metadata": {
    "pycharm": {
     "name": "#%% md\n"
    }
   },
   "source": [
    "### Data Source"
   ]
  },
  {
   "cell_type": "markdown",
   "id": "edfa240f",
   "metadata": {
    "pycharm": {
     "name": "#%% md\n"
    },
    "tags": []
   },
   "source": [
    "### Environment Setup\n",
    "This notebook was run using Python 3.8 with following packages installed:\n",
    "- langchain==0.0.177\n",
    "- pandas==2.0.1"
   ]
  },
  {
   "cell_type": "markdown",
   "id": "3570b4d4-199f-4b97-80b7-9d1d22cbbb70",
   "metadata": {
    "tags": []
   },
   "source": [
    "# Analysis"
   ]
  },
  {
   "cell_type": "code",
   "execution_count": 2,
   "id": "6ba8687a-3438-468c-8288-3ab8419d8dca",
   "metadata": {},
   "outputs": [],
   "source": [
    "import pandas as pd"
   ]
  },
  {
   "cell_type": "code",
   "execution_count": 3,
   "id": "347b0d46-7add-4055-bde1-b4a561cdec91",
   "metadata": {},
   "outputs": [
    {
     "data": {
      "text/plain": [
       "(1066, 8)"
      ]
     },
     "execution_count": 3,
     "metadata": {},
     "output_type": "execute_result"
    }
   ],
   "source": [
    "df_delta_tweets = pd.read_csv(\"./data/delta-airlines-tweets.csv\")\n",
    "df_delta_tweets.shape"
   ]
  },
  {
   "cell_type": "markdown",
   "id": "463ee0de-0695-46d6-b31f-d5ddf4040f0d",
   "metadata": {},
   "source": [
    "## Langchain access\n",
    "\n",
    "[API reference](https://platform.openai.com/docs/guides/chat/introduction)"
   ]
  },
  {
   "cell_type": "code",
   "execution_count": 4,
   "id": "e0a263ff-2f71-4537-a8e6-e0dce4ee2cbd",
   "metadata": {},
   "outputs": [],
   "source": [
    "from platform import python_version"
   ]
  },
  {
   "cell_type": "code",
   "execution_count": 9,
   "id": "f26f265b-7660-4ab5-aa39-2c35144aa365",
   "metadata": {},
   "outputs": [
    {
     "data": {
      "text/plain": [
       "True"
      ]
     },
     "execution_count": 9,
     "metadata": {},
     "output_type": "execute_result"
    }
   ],
   "source": [
    "# load open ai api key\n",
    "from dotenv import load_dotenv\n",
    "load_dotenv(\"../.env\")"
   ]
  },
  {
   "cell_type": "code",
   "execution_count": 1,
   "id": "e06b82bc-63dc-4ceb-804f-12149fb76883",
   "metadata": {},
   "outputs": [],
   "source": [
    "from langchain.chat_models import ChatOpenAI\n",
    "from langchain.prompts.chat import SystemMessagePromptTemplate, HumanMessagePromptTemplate, ChatPromptTemplate"
   ]
  },
  {
   "cell_type": "code",
   "execution_count": 6,
   "id": "e0d926a4-a338-4e3e-ace7-8eabc19e4faf",
   "metadata": {},
   "outputs": [],
   "source": [
    "category_prompt_template = \"\"\"\n",
    "you are a customer support agent for Delta Air Lines in the USA who is responding to tweets from users. given a tweet, you are supposed to classify it into one of the following categories:\n",
    "\n",
    "- complaint\n",
    "- question\n",
    "- compliment\n",
    "\n",
    "If a tweet does not fall into any of the above categories, mark it as \"other\".\n",
    "\n",
    "classify the following tweet:\n",
    "\n",
    "{tweet}\n",
    "\"\"\""
   ]
  },
  {
   "cell_type": "code",
   "execution_count": 7,
   "id": "4b8e110e-2d72-45ba-95ad-5323cf03fa33",
   "metadata": {},
   "outputs": [],
   "source": [
    "system_message_prompt = SystemMessagePromptTemplate.from_template(\"\")\n",
    "user_message_prompt = HumanMessagePromptTemplate.from_template(category_prompt_template)\n",
    "chat_prompt = ChatPromptTemplate.from_messages([\n",
    "    system_message_prompt,\n",
    "    user_message_prompt])"
   ]
  },
  {
   "cell_type": "code",
   "execution_count": 10,
   "id": "9bc4f148-3121-42de-8ccf-13d9dac26e3a",
   "metadata": {},
   "outputs": [],
   "source": [
    "chat = ChatOpenAI(temperature=0)"
   ]
  },
  {
   "cell_type": "code",
   "execution_count": 12,
   "id": "4270c8f0-91ed-4437-ac7b-a65fb18bddb3",
   "metadata": {},
   "outputs": [
    {
     "name": "stdout",
     "output_type": "stream",
     "text": [
      "@Delta I do really appreciate the app notifications when bags have been loaded on the plane. Nice to have one less thing to worry about ;)\n"
     ]
    }
   ],
   "source": [
    "tweet = df_delta_tweets.text.iloc[0]\n",
    "print(tweet)"
   ]
  },
  {
   "cell_type": "code",
   "execution_count": 13,
   "id": "d0193614-8639-49de-b189-56cdba0e60c3",
   "metadata": {},
   "outputs": [],
   "source": [
    "ai_response = chat(chat_prompt.format_prompt(tweet=tweet).to_messages())"
   ]
  },
  {
   "cell_type": "code",
   "execution_count": 14,
   "id": "4105060b-c0b8-4028-93f7-96771c83743c",
   "metadata": {},
   "outputs": [
    {
     "data": {
      "text/plain": [
       "'compliment'"
      ]
     },
     "execution_count": 14,
     "metadata": {},
     "output_type": "execute_result"
    }
   ],
   "source": [
    "ai_response.content"
   ]
  },
  {
   "cell_type": "markdown",
   "id": "862993d9-22ff-4cfc-9d33-342224b48fea",
   "metadata": {},
   "source": [
    "## get all responses"
   ]
  },
  {
   "cell_type": "code",
   "execution_count": 15,
   "id": "3d8e094a-548b-4840-b7bf-c0f11a897b63",
   "metadata": {},
   "outputs": [
    {
     "data": {
      "text/plain": [
       "1066"
      ]
     },
     "execution_count": 15,
     "metadata": {},
     "output_type": "execute_result"
    }
   ],
   "source": [
    "batch_messages = [chat_prompt.format_prompt(tweet=tweet).to_messages()\n",
    "                  for tweet in df_delta_tweets.text]\n",
    "len(batch_messages)"
   ]
  },
  {
   "cell_type": "code",
   "execution_count": 16,
   "id": "b3bdc081-ff72-4b4b-84fe-20205222e1ae",
   "metadata": {
    "scrolled": true,
    "tags": []
   },
   "outputs": [
    {
     "name": "stderr",
     "output_type": "stream",
     "text": [
      "Retrying langchain.chat_models.openai.ChatOpenAI.completion_with_retry.<locals>._completion_with_retry in 1.0 seconds as it raised RateLimitError: The server had an error while processing your request. Sorry about that!.\n",
      "Retrying langchain.chat_models.openai.ChatOpenAI.completion_with_retry.<locals>._completion_with_retry in 1.0 seconds as it raised RateLimitError: That model is currently overloaded with other requests. You can retry your request, or contact us through our help center at help.openai.com if the error persists. (Please include the request ID 605bb6207698cd43de6d52eae46769a5 in your message.).\n",
      "Retrying langchain.chat_models.openai.ChatOpenAI.completion_with_retry.<locals>._completion_with_retry in 1.0 seconds as it raised RateLimitError: That model is currently overloaded with other requests. You can retry your request, or contact us through our help center at help.openai.com if the error persists. (Please include the request ID 5110ee814aebfa66637d33cd7b1886da in your message.).\n",
      "Retrying langchain.chat_models.openai.ChatOpenAI.completion_with_retry.<locals>._completion_with_retry in 1.0 seconds as it raised RateLimitError: That model is currently overloaded with other requests. You can retry your request, or contact us through our help center at help.openai.com if the error persists. (Please include the request ID 33a474670a4412132dce4304d05b95eb in your message.).\n",
      "Retrying langchain.chat_models.openai.ChatOpenAI.completion_with_retry.<locals>._completion_with_retry in 2.0 seconds as it raised RateLimitError: The server had an error while processing your request. Sorry about that!.\n",
      "Retrying langchain.chat_models.openai.ChatOpenAI.completion_with_retry.<locals>._completion_with_retry in 1.0 seconds as it raised RateLimitError: That model is currently overloaded with other requests. You can retry your request, or contact us through our help center at help.openai.com if the error persists. (Please include the request ID 0d65df0856ac2cfe96f1b417fad11552 in your message.).\n",
      "Retrying langchain.chat_models.openai.ChatOpenAI.completion_with_retry.<locals>._completion_with_retry in 1.0 seconds as it raised RateLimitError: The server had an error while processing your request. Sorry about that!.\n",
      "Retrying langchain.chat_models.openai.ChatOpenAI.completion_with_retry.<locals>._completion_with_retry in 1.0 seconds as it raised RateLimitError: The server had an error while processing your request. Sorry about that!.\n",
      "Retrying langchain.chat_models.openai.ChatOpenAI.completion_with_retry.<locals>._completion_with_retry in 1.0 seconds as it raised RateLimitError: That model is currently overloaded with other requests. You can retry your request, or contact us through our help center at help.openai.com if the error persists. (Please include the request ID 01401d10f94b4549f7481de9ceab4f1f in your message.).\n",
      "Retrying langchain.chat_models.openai.ChatOpenAI.completion_with_retry.<locals>._completion_with_retry in 1.0 seconds as it raised RateLimitError: The server had an error while processing your request. Sorry about that!.\n",
      "Retrying langchain.chat_models.openai.ChatOpenAI.completion_with_retry.<locals>._completion_with_retry in 1.0 seconds as it raised RateLimitError: That model is currently overloaded with other requests. You can retry your request, or contact us through our help center at help.openai.com if the error persists. (Please include the request ID d75eda9b5da353c4328b415fd068d1ca in your message.).\n",
      "Retrying langchain.chat_models.openai.ChatOpenAI.completion_with_retry.<locals>._completion_with_retry in 1.0 seconds as it raised RateLimitError: That model is currently overloaded with other requests. You can retry your request, or contact us through our help center at help.openai.com if the error persists. (Please include the request ID 7161383433de2acf3c108c0b3907bba6 in your message.).\n",
      "Retrying langchain.chat_models.openai.ChatOpenAI.completion_with_retry.<locals>._completion_with_retry in 1.0 seconds as it raised APIError: Bad gateway. {\"error\":{\"code\":502,\"message\":\"Bad gateway.\",\"param\":null,\"type\":\"cf_bad_gateway\"}} 502 {'error': {'code': 502, 'message': 'Bad gateway.', 'param': None, 'type': 'cf_bad_gateway'}} {'Date': 'Wed, 24 May 2023 08:15:57 GMT', 'Content-Type': 'application/json', 'Content-Length': '84', 'Connection': 'keep-alive', 'X-Frame-Options': 'SAMEORIGIN', 'Referrer-Policy': 'same-origin', 'Cache-Control': 'private, max-age=0, no-store, no-cache, must-revalidate, post-check=0, pre-check=0', 'Expires': 'Thu, 01 Jan 1970 00:00:01 GMT', 'Server': 'cloudflare', 'CF-RAY': '7cc41063ab3a31b2-BOM', 'alt-svc': 'h3=\":443\"; ma=86400, h3-29=\":443\"; ma=86400'}.\n",
      "Retrying langchain.chat_models.openai.ChatOpenAI.completion_with_retry.<locals>._completion_with_retry in 1.0 seconds as it raised RateLimitError: That model is currently overloaded with other requests. You can retry your request, or contact us through our help center at help.openai.com if the error persists. (Please include the request ID 50c330212fafabe1af4b8d9eec66e50c in your message.).\n",
      "Retrying langchain.chat_models.openai.ChatOpenAI.completion_with_retry.<locals>._completion_with_retry in 1.0 seconds as it raised RateLimitError: That model is currently overloaded with other requests. You can retry your request, or contact us through our help center at help.openai.com if the error persists. (Please include the request ID 91ac011446460ab02da90f064b68b009 in your message.).\n",
      "Retrying langchain.chat_models.openai.ChatOpenAI.completion_with_retry.<locals>._completion_with_retry in 1.0 seconds as it raised RateLimitError: That model is currently overloaded with other requests. You can retry your request, or contact us through our help center at help.openai.com if the error persists. (Please include the request ID 74fedb9af56dc7227ab2915c2dbedf4e in your message.).\n",
      "Retrying langchain.chat_models.openai.ChatOpenAI.completion_with_retry.<locals>._completion_with_retry in 1.0 seconds as it raised RateLimitError: That model is currently overloaded with other requests. You can retry your request, or contact us through our help center at help.openai.com if the error persists. (Please include the request ID d151f6b26f3738c0e2df10c4a8298544 in your message.).\n",
      "Retrying langchain.chat_models.openai.ChatOpenAI.completion_with_retry.<locals>._completion_with_retry in 1.0 seconds as it raised RateLimitError: That model is currently overloaded with other requests. You can retry your request, or contact us through our help center at help.openai.com if the error persists. (Please include the request ID a941f0eec6055b909eca50383cfad448 in your message.).\n",
      "Retrying langchain.chat_models.openai.ChatOpenAI.completion_with_retry.<locals>._completion_with_retry in 1.0 seconds as it raised RateLimitError: That model is currently overloaded with other requests. You can retry your request, or contact us through our help center at help.openai.com if the error persists. (Please include the request ID 9524f08855600167cda2561ef3b2df57 in your message.).\n",
      "Retrying langchain.chat_models.openai.ChatOpenAI.completion_with_retry.<locals>._completion_with_retry in 1.0 seconds as it raised RateLimitError: That model is currently overloaded with other requests. You can retry your request, or contact us through our help center at help.openai.com if the error persists. (Please include the request ID 6767e24597e32a7c126388342d96ae42 in your message.).\n",
      "Retrying langchain.chat_models.openai.ChatOpenAI.completion_with_retry.<locals>._completion_with_retry in 1.0 seconds as it raised RateLimitError: That model is currently overloaded with other requests. You can retry your request, or contact us through our help center at help.openai.com if the error persists. (Please include the request ID 2a29b4544a57a1bc52de85c6b04cd578 in your message.).\n",
      "Retrying langchain.chat_models.openai.ChatOpenAI.completion_with_retry.<locals>._completion_with_retry in 1.0 seconds as it raised RateLimitError: That model is currently overloaded with other requests. You can retry your request, or contact us through our help center at help.openai.com if the error persists. (Please include the request ID 35c25586c62da179e6a0a0c1d976e44b in your message.).\n",
      "Retrying langchain.chat_models.openai.ChatOpenAI.completion_with_retry.<locals>._completion_with_retry in 1.0 seconds as it raised RateLimitError: The server had an error while processing your request. Sorry about that!.\n",
      "Retrying langchain.chat_models.openai.ChatOpenAI.completion_with_retry.<locals>._completion_with_retry in 1.0 seconds as it raised RateLimitError: That model is currently overloaded with other requests. You can retry your request, or contact us through our help center at help.openai.com if the error persists. (Please include the request ID 6f5945a9bd6b73a60a39664e786309e7 in your message.).\n",
      "Retrying langchain.chat_models.openai.ChatOpenAI.completion_with_retry.<locals>._completion_with_retry in 1.0 seconds as it raised RateLimitError: That model is currently overloaded with other requests. You can retry your request, or contact us through our help center at help.openai.com if the error persists. (Please include the request ID d7b3a5e93ba5da21e01909c2dfd9e7f0 in your message.).\n",
      "Retrying langchain.chat_models.openai.ChatOpenAI.completion_with_retry.<locals>._completion_with_retry in 1.0 seconds as it raised RateLimitError: That model is currently overloaded with other requests. You can retry your request, or contact us through our help center at help.openai.com if the error persists. (Please include the request ID f49e3e9617be47c93271dab8212c8087 in your message.).\n",
      "Retrying langchain.chat_models.openai.ChatOpenAI.completion_with_retry.<locals>._completion_with_retry in 1.0 seconds as it raised RateLimitError: That model is currently overloaded with other requests. You can retry your request, or contact us through our help center at help.openai.com if the error persists. (Please include the request ID 4097cd0c1a117327cb0eaa6303712c50 in your message.).\n",
      "Retrying langchain.chat_models.openai.ChatOpenAI.completion_with_retry.<locals>._completion_with_retry in 1.0 seconds as it raised RateLimitError: That model is currently overloaded with other requests. You can retry your request, or contact us through our help center at help.openai.com if the error persists. (Please include the request ID 19200c001a2fa2b9db9133e30fad08a8 in your message.).\n",
      "Retrying langchain.chat_models.openai.ChatOpenAI.completion_with_retry.<locals>._completion_with_retry in 1.0 seconds as it raised RateLimitError: That model is currently overloaded with other requests. You can retry your request, or contact us through our help center at help.openai.com if the error persists. (Please include the request ID 9c4acb6a4fb6b8dc7f40f377d1dd1c5d in your message.).\n",
      "Retrying langchain.chat_models.openai.ChatOpenAI.completion_with_retry.<locals>._completion_with_retry in 1.0 seconds as it raised RateLimitError: That model is currently overloaded with other requests. You can retry your request, or contact us through our help center at help.openai.com if the error persists. (Please include the request ID f7d9a9b13f3966175aab76d6c7d34825 in your message.).\n",
      "Retrying langchain.chat_models.openai.ChatOpenAI.completion_with_retry.<locals>._completion_with_retry in 1.0 seconds as it raised RateLimitError: That model is currently overloaded with other requests. You can retry your request, or contact us through our help center at help.openai.com if the error persists. (Please include the request ID 26d30abb905456c6bd2ba065fe4a4a91 in your message.).\n",
      "Retrying langchain.chat_models.openai.ChatOpenAI.completion_with_retry.<locals>._completion_with_retry in 1.0 seconds as it raised RateLimitError: That model is currently overloaded with other requests. You can retry your request, or contact us through our help center at help.openai.com if the error persists. (Please include the request ID 9f60778e39da5c7b816bc8425b018c26 in your message.).\n",
      "Retrying langchain.chat_models.openai.ChatOpenAI.completion_with_retry.<locals>._completion_with_retry in 1.0 seconds as it raised RateLimitError: That model is currently overloaded with other requests. You can retry your request, or contact us through our help center at help.openai.com if the error persists. (Please include the request ID 6e02687b40f3cd245f29562f9b2c5ce7 in your message.).\n",
      "Retrying langchain.chat_models.openai.ChatOpenAI.completion_with_retry.<locals>._completion_with_retry in 1.0 seconds as it raised RateLimitError: That model is currently overloaded with other requests. You can retry your request, or contact us through our help center at help.openai.com if the error persists. (Please include the request ID abeccc6890421d7b86e4316911ab8d4c in your message.).\n",
      "Retrying langchain.chat_models.openai.ChatOpenAI.completion_with_retry.<locals>._completion_with_retry in 1.0 seconds as it raised RateLimitError: That model is currently overloaded with other requests. You can retry your request, or contact us through our help center at help.openai.com if the error persists. (Please include the request ID 5fb4e8180a7d31e6c2f185637c68d121 in your message.).\n",
      "Retrying langchain.chat_models.openai.ChatOpenAI.completion_with_retry.<locals>._completion_with_retry in 1.0 seconds as it raised RateLimitError: That model is currently overloaded with other requests. You can retry your request, or contact us through our help center at help.openai.com if the error persists. (Please include the request ID dd542122f800d68a03a98604551e59c0 in your message.).\n",
      "Retrying langchain.chat_models.openai.ChatOpenAI.completion_with_retry.<locals>._completion_with_retry in 1.0 seconds as it raised RateLimitError: That model is currently overloaded with other requests. You can retry your request, or contact us through our help center at help.openai.com if the error persists. (Please include the request ID c7c6c051251643918561e5599b1e34c0 in your message.).\n",
      "Retrying langchain.chat_models.openai.ChatOpenAI.completion_with_retry.<locals>._completion_with_retry in 1.0 seconds as it raised RateLimitError: That model is currently overloaded with other requests. You can retry your request, or contact us through our help center at help.openai.com if the error persists. (Please include the request ID 6e4a39542ac949bb9922903589768e11 in your message.).\n",
      "Retrying langchain.chat_models.openai.ChatOpenAI.completion_with_retry.<locals>._completion_with_retry in 1.0 seconds as it raised RateLimitError: That model is currently overloaded with other requests. You can retry your request, or contact us through our help center at help.openai.com if the error persists. (Please include the request ID 9d63e34a366dc0716c133ee375208c09 in your message.).\n",
      "Retrying langchain.chat_models.openai.ChatOpenAI.completion_with_retry.<locals>._completion_with_retry in 1.0 seconds as it raised RateLimitError: That model is currently overloaded with other requests. You can retry your request, or contact us through our help center at help.openai.com if the error persists. (Please include the request ID be8a0dd174825d5eebf217e47195b028 in your message.).\n",
      "Retrying langchain.chat_models.openai.ChatOpenAI.completion_with_retry.<locals>._completion_with_retry in 1.0 seconds as it raised RateLimitError: That model is currently overloaded with other requests. You can retry your request, or contact us through our help center at help.openai.com if the error persists. (Please include the request ID b64a49cf4fe10c70fd05ca91293473db in your message.).\n",
      "Retrying langchain.chat_models.openai.ChatOpenAI.completion_with_retry.<locals>._completion_with_retry in 1.0 seconds as it raised APIError: Bad gateway. {\"error\":{\"code\":502,\"message\":\"Bad gateway.\",\"param\":null,\"type\":\"cf_bad_gateway\"}} 502 {'error': {'code': 502, 'message': 'Bad gateway.', 'param': None, 'type': 'cf_bad_gateway'}} {'Date': 'Wed, 24 May 2023 08:54:50 GMT', 'Content-Type': 'application/json', 'Content-Length': '84', 'Connection': 'keep-alive', 'X-Frame-Options': 'SAMEORIGIN', 'Referrer-Policy': 'same-origin', 'Cache-Control': 'private, max-age=0, no-store, no-cache, must-revalidate, post-check=0, pre-check=0', 'Expires': 'Thu, 01 Jan 1970 00:00:01 GMT', 'Server': 'cloudflare', 'CF-RAY': '7cc449548cacf435-BOM', 'alt-svc': 'h3=\":443\"; ma=86400, h3-29=\":443\"; ma=86400'}.\n"
     ]
    }
   ],
   "source": [
    "result = chat.generate(batch_messages)"
   ]
  },
  {
   "cell_type": "code",
   "execution_count": 17,
   "id": "e2e7bfee-6ed4-41a7-b879-abbce526ca33",
   "metadata": {},
   "outputs": [
    {
     "data": {
      "text/plain": [
       "1066"
      ]
     },
     "execution_count": 17,
     "metadata": {},
     "output_type": "execute_result"
    }
   ],
   "source": [
    "len(result.generations)"
   ]
  },
  {
   "cell_type": "markdown",
   "id": "d0f7bcf2-98f0-4333-b491-d56fe0058382",
   "metadata": {},
   "source": [
    "### Cost\n",
    "\n",
    "As per the [pricing](https://openai.com/pricing#language-models) documentation of Open AI, the gpt-3.5-turbo api is charged at \\\\$0.001 for every 1K tokens. Below we can see that we used 130611 tokens which would cost us **\\\\$0.26**. This is fairly low, but we only passed in a 1000 tweets. The cost would ramp up as we analyze more data."
   ]
  },
  {
   "cell_type": "code",
   "execution_count": 18,
   "id": "e8f5866f-75c5-43b4-ab74-4c6c675ce4c2",
   "metadata": {},
   "outputs": [
    {
     "data": {
      "text/plain": [
       "{'token_usage': {'prompt_tokens': 128406,\n",
       "  'completion_tokens': 2205,\n",
       "  'total_tokens': 130611},\n",
       " 'model_name': 'gpt-3.5-turbo'}"
      ]
     },
     "execution_count": 18,
     "metadata": {},
     "output_type": "execute_result"
    }
   ],
   "source": [
    "result.llm_output"
   ]
  },
  {
   "cell_type": "code",
   "execution_count": 19,
   "id": "0684d92a-c3bb-4676-adac-79932a8fcdb0",
   "metadata": {},
   "outputs": [],
   "source": [
    "df_delta_tweets.loc[:, \"category_raw\"] = [x[0].text for x in result.generations]"
   ]
  },
  {
   "cell_type": "code",
   "execution_count": 20,
   "id": "cd00745c-da03-4ed6-acc4-e176dfbddc7c",
   "metadata": {},
   "outputs": [
    {
     "data": {
      "text/plain": [
       "category_raw\n",
       "complaint               425\n",
       "compliment              333\n",
       "question                243\n",
       "other                    42\n",
       "Category: Complaint       5\n",
       "category: question        4\n",
       "category: complaint       4\n",
       "Category: Complaint.      2\n",
       "Category: Question        2\n",
       "Category: Question.       2\n",
       "Category: question.       1\n",
       "Category: question        1\n",
       "Question                  1\n",
       "suggestion                1\n",
       "Name: count, dtype: int64"
      ]
     },
     "execution_count": 20,
     "metadata": {},
     "output_type": "execute_result"
    }
   ],
   "source": [
    "df_delta_tweets.category_raw.value_counts()"
   ]
  },
  {
   "cell_type": "code",
   "execution_count": 21,
   "id": "3bed0941-0d7c-43b5-ab90-c2c7e939aa69",
   "metadata": {},
   "outputs": [],
   "source": [
    "import re"
   ]
  },
  {
   "cell_type": "code",
   "execution_count": 22,
   "id": "140d5c86-2455-40fe-801a-d472ddc50803",
   "metadata": {},
   "outputs": [],
   "source": [
    "def extract_category(raw):\n",
    "    pattern = re.compile(\"compliment|complaint|question|other\")\n",
    "    match = pattern.search(raw.lower())\n",
    "    if match is None:\n",
    "        return None\n",
    "    return match.group()"
   ]
  },
  {
   "cell_type": "code",
   "execution_count": 23,
   "id": "d3f12333-f988-44ae-a86f-650bf1720abb",
   "metadata": {},
   "outputs": [],
   "source": [
    "df_delta_tweets.loc[:, \"category\"] = df_delta_tweets.category_raw.apply(extract_category)"
   ]
  },
  {
   "cell_type": "code",
   "execution_count": 47,
   "id": "24b32ba3-f97c-43fe-a55c-37cbb309fc16",
   "metadata": {},
   "outputs": [
    {
     "data": {
      "text/html": [
       "<div>\n",
       "<style scoped>\n",
       "    .dataframe tbody tr th:only-of-type {\n",
       "        vertical-align: middle;\n",
       "    }\n",
       "\n",
       "    .dataframe tbody tr th {\n",
       "        vertical-align: top;\n",
       "    }\n",
       "\n",
       "    .dataframe thead th {\n",
       "        text-align: right;\n",
       "    }\n",
       "</style>\n",
       "<table border=\"1\" class=\"dataframe\">\n",
       "  <thead>\n",
       "    <tr style=\"text-align: right;\">\n",
       "      <th></th>\n",
       "      <th>tweet_id</th>\n",
       "      <th>author_id</th>\n",
       "      <th>inbound</th>\n",
       "      <th>created_at</th>\n",
       "      <th>text</th>\n",
       "      <th>response_tweet_id</th>\n",
       "      <th>in_response_to_tweet_id</th>\n",
       "      <th>date</th>\n",
       "      <th>category_raw</th>\n",
       "      <th>category</th>\n",
       "    </tr>\n",
       "  </thead>\n",
       "  <tbody>\n",
       "    <tr>\n",
       "      <th>928</th>\n",
       "      <td>511880</td>\n",
       "      <td>237698</td>\n",
       "      <td>True</td>\n",
       "      <td>Fri Dec 01 22:47:52 +0000 2017</td>\n",
       "      <td>Hey @delta, ever considered offering #cancer p...</td>\n",
       "      <td>511879</td>\n",
       "      <td>NaN</td>\n",
       "      <td>2017-12-01</td>\n",
       "      <td>suggestion</td>\n",
       "      <td>None</td>\n",
       "    </tr>\n",
       "  </tbody>\n",
       "</table>\n",
       "</div>"
      ],
      "text/plain": [
       "     tweet_id  author_id  inbound                      created_at   \n",
       "928    511880     237698     True  Fri Dec 01 22:47:52 +0000 2017  \\\n",
       "\n",
       "                                                  text response_tweet_id   \n",
       "928  Hey @delta, ever considered offering #cancer p...            511879  \\\n",
       "\n",
       "     in_response_to_tweet_id        date category_raw category  \n",
       "928                      NaN  2017-12-01   suggestion     None  "
      ]
     },
     "execution_count": 47,
     "metadata": {},
     "output_type": "execute_result"
    }
   ],
   "source": [
    "df_delta_tweets.loc[df_delta_tweets.category.isnull()]"
   ]
  },
  {
   "cell_type": "code",
   "execution_count": 24,
   "id": "70f0e0c4-10d8-45d1-a1bd-fd4ee4102c43",
   "metadata": {},
   "outputs": [
    {
     "data": {
      "text/plain": [
       "category\n",
       "complaint     436\n",
       "compliment    333\n",
       "question      254\n",
       "other          42\n",
       "Name: count, dtype: int64"
      ]
     },
     "execution_count": 24,
     "metadata": {},
     "output_type": "execute_result"
    }
   ],
   "source": [
    "df_delta_tweets.category.value_counts()"
   ]
  },
  {
   "cell_type": "code",
   "execution_count": 25,
   "id": "96c5067e-0c38-4017-b539-1fd61dd19fac",
   "metadata": {},
   "outputs": [],
   "source": [
    "def sample_category(category, n):\n",
    "    print(\"\\n\\n\".join(list(df_delta_tweets.loc[df_delta_tweets.category == category].text.sample(n))))"
   ]
  },
  {
   "cell_type": "code",
   "execution_count": 29,
   "id": "49ff5abb-ea2f-4540-b651-ec947d92f578",
   "metadata": {},
   "outputs": [
    {
     "name": "stdout",
     "output_type": "stream",
     "text": [
      "@Delta This is just a question from two curious passengers. Why don’t Airlines board passengers from the back of the plane to the front? (Minus first class or premium passengers). Wouldn’t that be more efficient with time and space? Just curious!\n",
      "\n",
      "@Delta my last two flights aren’t registering my points in the app....help! 😩😅\n",
      "\n",
      "@Delta I need help with my reservation tomorrow but can't sit on hold for the hold time of 1hr 10 minutes\n",
      "\n",
      "hi @824 I am flying to @151272  in 19 days - can you share the link with me of flight entertainment struggling finding it.\n",
      "\n",
      "Hi @delta what's the size of a personal item for an overseas flight? Need to carry a big boy @118117 Play 5 gift to make someone happy :) Thanks and Merry Christmas!!\n"
     ]
    }
   ],
   "source": [
    "sample_category(\"question\", 5)"
   ]
  },
  {
   "cell_type": "code",
   "execution_count": 30,
   "id": "ea94fa99-dd5a-4a4b-9fa3-89302e75fb3c",
   "metadata": {},
   "outputs": [],
   "source": [
    "df_delta_tweets.to_csv(\"./demo/delta-tweets-with-category.csv\", index=False)"
   ]
  },
  {
   "cell_type": "markdown",
   "id": "f1ecaf39-f6ef-434c-955e-a4ade392e457",
   "metadata": {
    "tags": []
   },
   "source": [
    "# exploring reasons for complaints\n",
    "\n",
    "This is a good first start, but for an actual appication perspective we need to see where exactly we're going wrong. Let's try to classify the negative reviews further into some categories:\n",
    "\n",
    "- Bad Flight Experience\n",
    "- Flight Cancellation\n",
    "- Flight Delays\n",
    "- Poor Customer Service\n",
    "- Damaged Luggage\n",
    "- Flight Attendant Complaints\n",
    "- Flight Booking Problems\n",
    "- Lost Luggage\n",
    "- Other"
   ]
  },
  {
   "cell_type": "code",
   "execution_count": 31,
   "id": "2622c7a6-1dee-4691-812c-640e7a037ff1",
   "metadata": {},
   "outputs": [],
   "source": [
    "neg_category_prompt_template = \"\"\"\n",
    "you are a customer support agent for one of the largest airlines in the USA who is responding to tweets from users. \n",
    "given a tweet where a customer is complaining, you are supposed to identify the reason for the complaint and classify it into one of the following categories:\n",
    "\n",
    "- Flight Cancellation\n",
    "- Flight Delays\n",
    "- Bad Flight Experience\n",
    "- Lost/Damaged Luggage\n",
    "- Flight Attendant Complaints\n",
    "- Flight Booking Problems\n",
    "- Poor Customer Service\n",
    "- Other\n",
    "\n",
    "classify the following tweet:\n",
    "\n",
    "{tweet}\n",
    "\"\"\""
   ]
  },
  {
   "cell_type": "code",
   "execution_count": 32,
   "id": "58daaf57-5f2e-42f6-8a91-71baa6fe8538",
   "metadata": {},
   "outputs": [],
   "source": [
    "system_message_prompt = SystemMessagePromptTemplate.from_template(\"\")\n",
    "user_message_prompt_complaint = HumanMessagePromptTemplate.from_template(neg_category_prompt_template)\n",
    "chat_prompt_complaint = ChatPromptTemplate.from_messages([\n",
    "    system_message_prompt,\n",
    "    user_message_prompt_complaint])"
   ]
  },
  {
   "cell_type": "code",
   "execution_count": 33,
   "id": "21fb907f-d1a3-48c7-ad38-dce8da7a9411",
   "metadata": {},
   "outputs": [
    {
     "data": {
      "text/plain": [
       "(436, 10)"
      ]
     },
     "execution_count": 33,
     "metadata": {},
     "output_type": "execute_result"
    }
   ],
   "source": [
    "df_complaints = df_delta_tweets.loc[df_delta_tweets.category == \"complaint\"]\n",
    "df_complaints.shape"
   ]
  },
  {
   "cell_type": "code",
   "execution_count": 34,
   "id": "79695763-2d5e-4c82-a6ce-83e17e6bd7e4",
   "metadata": {
    "scrolled": true,
    "tags": []
   },
   "outputs": [
    {
     "name": "stderr",
     "output_type": "stream",
     "text": [
      "Retrying langchain.chat_models.openai.ChatOpenAI.completion_with_retry.<locals>._completion_with_retry in 1.0 seconds as it raised RateLimitError: The server had an error while processing your request. Sorry about that!.\n",
      "Retrying langchain.chat_models.openai.ChatOpenAI.completion_with_retry.<locals>._completion_with_retry in 1.0 seconds as it raised RateLimitError: That model is currently overloaded with other requests. You can retry your request, or contact us through our help center at help.openai.com if the error persists. (Please include the request ID 357def4ab21ab8660ae05cba7caa78f7 in your message.).\n",
      "Retrying langchain.chat_models.openai.ChatOpenAI.completion_with_retry.<locals>._completion_with_retry in 1.0 seconds as it raised RateLimitError: That model is currently overloaded with other requests. You can retry your request, or contact us through our help center at help.openai.com if the error persists. (Please include the request ID e8eac415575a6910c85396dd60004fc0 in your message.).\n",
      "Retrying langchain.chat_models.openai.ChatOpenAI.completion_with_retry.<locals>._completion_with_retry in 1.0 seconds as it raised APIError: Bad gateway. {\"error\":{\"code\":502,\"message\":\"Bad gateway.\",\"param\":null,\"type\":\"cf_bad_gateway\"}} 502 {'error': {'code': 502, 'message': 'Bad gateway.', 'param': None, 'type': 'cf_bad_gateway'}} {'Date': 'Wed, 24 May 2023 09:18:32 GMT', 'Content-Type': 'application/json', 'Content-Length': '84', 'Connection': 'keep-alive', 'X-Frame-Options': 'SAMEORIGIN', 'Referrer-Policy': 'same-origin', 'Cache-Control': 'private, max-age=0, no-store, no-cache, must-revalidate, post-check=0, pre-check=0', 'Expires': 'Thu, 01 Jan 1970 00:00:01 GMT', 'Server': 'cloudflare', 'CF-RAY': '7cc46c15ac903227-BOM', 'alt-svc': 'h3=\":443\"; ma=86400, h3-29=\":443\"; ma=86400'}.\n",
      "Retrying langchain.chat_models.openai.ChatOpenAI.completion_with_retry.<locals>._completion_with_retry in 1.0 seconds as it raised RateLimitError: That model is currently overloaded with other requests. You can retry your request, or contact us through our help center at help.openai.com if the error persists. (Please include the request ID fe447f50b5634f6896e19e6104fb8762 in your message.).\n",
      "Retrying langchain.chat_models.openai.ChatOpenAI.completion_with_retry.<locals>._completion_with_retry in 1.0 seconds as it raised RateLimitError: That model is currently overloaded with other requests. You can retry your request, or contact us through our help center at help.openai.com if the error persists. (Please include the request ID fb9c756df3e8990dee7462bbf9f4f06c in your message.).\n",
      "Retrying langchain.chat_models.openai.ChatOpenAI.completion_with_retry.<locals>._completion_with_retry in 1.0 seconds as it raised RateLimitError: That model is currently overloaded with other requests. You can retry your request, or contact us through our help center at help.openai.com if the error persists. (Please include the request ID 7cd536e1ef60fe774299c86053c05cab in your message.).\n",
      "Retrying langchain.chat_models.openai.ChatOpenAI.completion_with_retry.<locals>._completion_with_retry in 1.0 seconds as it raised RateLimitError: That model is currently overloaded with other requests. You can retry your request, or contact us through our help center at help.openai.com if the error persists. (Please include the request ID a9106b348d71828803d3a1836bbcf28a in your message.).\n",
      "Retrying langchain.chat_models.openai.ChatOpenAI.completion_with_retry.<locals>._completion_with_retry in 1.0 seconds as it raised RateLimitError: That model is currently overloaded with other requests. You can retry your request, or contact us through our help center at help.openai.com if the error persists. (Please include the request ID d2db389e351c71991046c72814acaf40 in your message.).\n",
      "Retrying langchain.chat_models.openai.ChatOpenAI.completion_with_retry.<locals>._completion_with_retry in 2.0 seconds as it raised RateLimitError: That model is currently overloaded with other requests. You can retry your request, or contact us through our help center at help.openai.com if the error persists. (Please include the request ID 8cb0e12cbfcf34dfadf2c48ab71e3f47 in your message.).\n",
      "Retrying langchain.chat_models.openai.ChatOpenAI.completion_with_retry.<locals>._completion_with_retry in 1.0 seconds as it raised RateLimitError: That model is currently overloaded with other requests. You can retry your request, or contact us through our help center at help.openai.com if the error persists. (Please include the request ID 08ab791be6a5d62ee30d4e7a1ecd2670 in your message.).\n",
      "Retrying langchain.chat_models.openai.ChatOpenAI.completion_with_retry.<locals>._completion_with_retry in 1.0 seconds as it raised RateLimitError: That model is currently overloaded with other requests. You can retry your request, or contact us through our help center at help.openai.com if the error persists. (Please include the request ID 2599e1a4f289c725fd56bbae6a5abe2e in your message.).\n",
      "Retrying langchain.chat_models.openai.ChatOpenAI.completion_with_retry.<locals>._completion_with_retry in 1.0 seconds as it raised RateLimitError: That model is currently overloaded with other requests. You can retry your request, or contact us through our help center at help.openai.com if the error persists. (Please include the request ID 63974f21a911e4b368c7dfe942cc7420 in your message.).\n",
      "Retrying langchain.chat_models.openai.ChatOpenAI.completion_with_retry.<locals>._completion_with_retry in 1.0 seconds as it raised RateLimitError: That model is currently overloaded with other requests. You can retry your request, or contact us through our help center at help.openai.com if the error persists. (Please include the request ID 854abebfa4815b2dd93a9168de657cad in your message.).\n",
      "Retrying langchain.chat_models.openai.ChatOpenAI.completion_with_retry.<locals>._completion_with_retry in 1.0 seconds as it raised RateLimitError: That model is currently overloaded with other requests. You can retry your request, or contact us through our help center at help.openai.com if the error persists. (Please include the request ID 20c63b475f58eea2b1980faf4bd3d173 in your message.).\n",
      "Retrying langchain.chat_models.openai.ChatOpenAI.completion_with_retry.<locals>._completion_with_retry in 1.0 seconds as it raised APIError: Bad gateway. {\"error\":{\"code\":502,\"message\":\"Bad gateway.\",\"param\":null,\"type\":\"cf_bad_gateway\"}} 502 {'error': {'code': 502, 'message': 'Bad gateway.', 'param': None, 'type': 'cf_bad_gateway'}} {'Date': 'Wed, 24 May 2023 09:44:02 GMT', 'Content-Type': 'application/json', 'Content-Length': '84', 'Connection': 'keep-alive', 'X-Frame-Options': 'SAMEORIGIN', 'Referrer-Policy': 'same-origin', 'Cache-Control': 'private, max-age=0, no-store, no-cache, must-revalidate, post-check=0, pre-check=0', 'Expires': 'Thu, 01 Jan 1970 00:00:01 GMT', 'Server': 'cloudflare', 'CF-RAY': '7cc4916ed8bd3227-BOM', 'alt-svc': 'h3=\":443\"; ma=86400, h3-29=\":443\"; ma=86400'}.\n",
      "Retrying langchain.chat_models.openai.ChatOpenAI.completion_with_retry.<locals>._completion_with_retry in 1.0 seconds as it raised RateLimitError: That model is currently overloaded with other requests. You can retry your request, or contact us through our help center at help.openai.com if the error persists. (Please include the request ID 9c7765d961dc866b8445a5342fbb6558 in your message.).\n"
     ]
    },
    {
     "data": {
      "text/plain": [
       "436"
      ]
     },
     "execution_count": 34,
     "metadata": {},
     "output_type": "execute_result"
    }
   ],
   "source": [
    "batch_messages = [chat_prompt_complaint.format_prompt(tweet=tweet).to_messages()\n",
    "                  for tweet in df_complaints.text]\n",
    "result_complaint = chat.generate(batch_messages)\n",
    "len(result_complaint.generations)"
   ]
  },
  {
   "cell_type": "code",
   "execution_count": 37,
   "id": "0285f196-b0fb-48f0-bf1d-355db0770e55",
   "metadata": {},
   "outputs": [],
   "source": [
    "df_complaints.loc[:, \"complaint_category_raw\"] = [x[0].text for x in result_complaint.generations]"
   ]
  },
  {
   "cell_type": "code",
   "execution_count": 38,
   "id": "3e639afe-16a8-451d-9a10-65b3952b4208",
   "metadata": {},
   "outputs": [
    {
     "data": {
      "text/plain": [
       "complaint_category_raw\n",
       "Category: Bad Flight Experience.                                                                                                                                                                                                                                                                         63\n",
       "Category: Flight Delays                                                                                                                                                                                                                                                                                  61\n",
       "Category: Flight Booking Problems                                                                                                                                                                                                                                                                        56\n",
       "Category: Poor Customer Service.                                                                                                                                                                                                                                                                         54\n",
       "Category: Poor Customer Service                                                                                                                                                                                                                                                                          24\n",
       "                                                                                                                                                                                                                                                                                                         ..\n",
       "The tweet does not provide enough information to classify the reason for the complaint. It falls under the \"Other\" category. As a customer support agent, I would reply to the tweet and ask the customer to provide more details about their issue so that I can assist them better.                     1\n",
       "The tweet does not provide enough information to classify the complaint into a specific category. It falls under the \"Other\" category. As a customer support agent, I would respond to the tweet and ask the customer to provide more details about their complaint so that I can assist them better.     1\n",
       "Category: Other (specifically, a complaint about not receiving promised compensation for a broken seat and TV on a recent flight)                                                                                                                                                                         1\n",
       "Category: Other. \\n\\nThe customer is not complaining about any of the specific categories mentioned. Instead, they are requesting that Delta fix the outlets on their flight.                                                                                                                             1\n",
       "Flight Booking Problems                                                                                                                                                                                                                                                                                   1\n",
       "Name: count, Length: 75, dtype: int64"
      ]
     },
     "execution_count": 38,
     "metadata": {},
     "output_type": "execute_result"
    }
   ],
   "source": [
    "df_complaints.complaint_category_raw.value_counts()"
   ]
  },
  {
   "cell_type": "code",
   "execution_count": 43,
   "id": "854872b8-c253-4ff8-8732-f8d48cd54507",
   "metadata": {},
   "outputs": [],
   "source": [
    "neg_cats = [\n",
    "    \"Flight Cancellation\",\n",
    "    \"Flight Delays\",\n",
    "    \"Bad Flight Experience\",\n",
    "    \"Lost/Damaged Luggage\",\n",
    "    \"Flight Attendant Complaints\",\n",
    "    \"Flight Booking Problems\",\n",
    "    \"Poor Customer Service\",\n",
    "    \"Other\"\n",
    "]\n",
    "def extract_complaint_category(raw):\n",
    "    pattern = re.compile(\"|\".join(neg_categories), re.IGNORECASE)\n",
    "    match = pattern.search(raw.lower())\n",
    "    if match is None:\n",
    "        return None\n",
    "    return match.group()"
   ]
  },
  {
   "cell_type": "code",
   "execution_count": 44,
   "id": "4b47c7c9-01ec-45c0-96cb-034f79cb1972",
   "metadata": {},
   "outputs": [],
   "source": [
    "df_complaints.loc[:, \"category\"] = df_complaints.complaint_category_raw.apply(\n",
    "    extract_complaint_category)"
   ]
  },
  {
   "cell_type": "code",
   "execution_count": 45,
   "id": "f6fc2d94-a18c-437a-b9de-a7fa84bfb067",
   "metadata": {},
   "outputs": [
    {
     "data": {
      "text/plain": [
       "category\n",
       "flight delays                  86\n",
       "poor customer service          84\n",
       "bad flight experience          84\n",
       "flight booking problems        82\n",
       "other                          42\n",
       "lost/damaged luggage           35\n",
       "flight attendant complaints    11\n",
       "flight cancellation            10\n",
       "Name: count, dtype: int64"
      ]
     },
     "execution_count": 45,
     "metadata": {},
     "output_type": "execute_result"
    }
   ],
   "source": [
    "df_complaints.category.value_counts()"
   ]
  },
  {
   "cell_type": "code",
   "execution_count": 46,
   "id": "35fdb395-cea7-4493-bffb-e111efc5f25e",
   "metadata": {},
   "outputs": [
    {
     "data": {
      "text/html": [
       "<div>\n",
       "<style scoped>\n",
       "    .dataframe tbody tr th:only-of-type {\n",
       "        vertical-align: middle;\n",
       "    }\n",
       "\n",
       "    .dataframe tbody tr th {\n",
       "        vertical-align: top;\n",
       "    }\n",
       "\n",
       "    .dataframe thead th {\n",
       "        text-align: right;\n",
       "    }\n",
       "</style>\n",
       "<table border=\"1\" class=\"dataframe\">\n",
       "  <thead>\n",
       "    <tr style=\"text-align: right;\">\n",
       "      <th></th>\n",
       "      <th>tweet_id</th>\n",
       "      <th>author_id</th>\n",
       "      <th>inbound</th>\n",
       "      <th>created_at</th>\n",
       "      <th>text</th>\n",
       "      <th>response_tweet_id</th>\n",
       "      <th>in_response_to_tweet_id</th>\n",
       "      <th>date</th>\n",
       "      <th>category_raw</th>\n",
       "      <th>category</th>\n",
       "      <th>complaint_category_raw</th>\n",
       "    </tr>\n",
       "  </thead>\n",
       "  <tbody>\n",
       "    <tr>\n",
       "      <th>269</th>\n",
       "      <td>597382</td>\n",
       "      <td>261641</td>\n",
       "      <td>True</td>\n",
       "      <td>Sun Dec 03 19:36:32 +0000 2017</td>\n",
       "      <td>@delta you board the entire flight then deplan...</td>\n",
       "      <td>597381</td>\n",
       "      <td>NaN</td>\n",
       "      <td>2017-12-03</td>\n",
       "      <td>complaint</td>\n",
       "      <td>None</td>\n",
       "      <td>Category: Flight Experience Complaints</td>\n",
       "    </tr>\n",
       "    <tr>\n",
       "      <th>690</th>\n",
       "      <td>490843</td>\n",
       "      <td>231927</td>\n",
       "      <td>True</td>\n",
       "      <td>Fri Dec 01 16:40:08 +0000 2017</td>\n",
       "      <td>@Delta got diverted from Asheville to Greenvil...</td>\n",
       "      <td>490842</td>\n",
       "      <td>NaN</td>\n",
       "      <td>2017-12-01</td>\n",
       "      <td>complaint</td>\n",
       "      <td>None</td>\n",
       "      <td>Category: Flight Diversion</td>\n",
       "    </tr>\n",
       "  </tbody>\n",
       "</table>\n",
       "</div>"
      ],
      "text/plain": [
       "     tweet_id  author_id  inbound                      created_at   \n",
       "269    597382     261641     True  Sun Dec 03 19:36:32 +0000 2017  \\\n",
       "690    490843     231927     True  Fri Dec 01 16:40:08 +0000 2017   \n",
       "\n",
       "                                                  text response_tweet_id   \n",
       "269  @delta you board the entire flight then deplan...            597381  \\\n",
       "690  @Delta got diverted from Asheville to Greenvil...            490842   \n",
       "\n",
       "     in_response_to_tweet_id        date category_raw category   \n",
       "269                      NaN  2017-12-03    complaint     None  \\\n",
       "690                      NaN  2017-12-01    complaint     None   \n",
       "\n",
       "                     complaint_category_raw  \n",
       "269  Category: Flight Experience Complaints  \n",
       "690              Category: Flight Diversion  "
      ]
     },
     "execution_count": 46,
     "metadata": {},
     "output_type": "execute_result"
    }
   ],
   "source": [
    "df_complaints.loc[df_complaints.category.isnull()]"
   ]
  },
  {
   "cell_type": "code",
   "execution_count": 48,
   "id": "6275e6eb-775f-4ee2-bab3-a305fa21ee66",
   "metadata": {},
   "outputs": [],
   "source": [
    "df_complaints.to_csv(\"./demo/delta-tweets-complaint-category.csv\")"
   ]
  },
  {
   "cell_type": "code",
   "execution_count": null,
   "id": "6f036c82-9274-4e73-8232-b879b53bf9c0",
   "metadata": {},
   "outputs": [],
   "source": []
  }
 ],
 "metadata": {
  "kernelspec": {
   "display_name": "llm-playbook",
   "language": "python",
   "name": "llm-playbook"
  },
  "language_info": {
   "codemirror_mode": {
    "name": "ipython",
    "version": 3
   },
   "file_extension": ".py",
   "mimetype": "text/x-python",
   "name": "python",
   "nbconvert_exporter": "python",
   "pygments_lexer": "ipython3",
   "version": "3.9.0"
  }
 },
 "nbformat": 4,
 "nbformat_minor": 5
}
