{
 "cells": [
  {
   "cell_type": "markdown",
   "id": "a699c8ee",
   "metadata": {
    "pycharm": {
     "name": "#%% md\n"
    },
    "tags": []
   },
   "source": [
    "# Delta Airlines Twitter Customer Support Analysis\n",
    "\n",
    "In this notebook we will be analyzing tweets from users for Delta Air Lines support reps using OpenAI GPT3.5 API. The analysis is done in 2 steps:\n",
    "\n",
    "1. Intent identification: find out why a user is writing a tweet, this could be one of 4 reasons:\n",
    "    - Raise a complaint/grievance\n",
    "    - Ask a question\n",
    "    - Share a good experience\n",
    "    - Other reasons\n",
    "\n",
    "2. Reasons for complaints: for the tweets where a complaint is being raised, we want to identify the major causes which would be one of:\n",
    "    - Flight Cancellation\n",
    "    - Flight Delays\n",
    "    - Bad Flight Experience\n",
    "    - Lost/Damaged Luggage\n",
    "    - Flight Attendant Complaints\n",
    "    - Flight Booking Problems\n",
    "    - Poor Customer Service\n",
    "    - Other"
   ]
  },
  {
   "cell_type": "markdown",
   "id": "e9057b31",
   "metadata": {
    "jp-MarkdownHeadingCollapsed": true,
    "pycharm": {
     "name": "#%% md\n"
    },
    "tags": []
   },
   "source": [
    "### Data Source\n",
    "\n",
    "The data used here is a subset of the [Customer Support on Twitter](https://www.kaggle.com/datasets/thoughtvector/customer-support-on-twitter) dataset on Kaggle. The original dataset consists of both tweets and replies for many customer support channels.\n",
    "\n",
    "In this analysis, we will be using only the inbound tweets for Delta Air Lines. This data has been exported to the `data` dir."
   ]
  },
  {
   "cell_type": "markdown",
   "id": "edfa240f",
   "metadata": {
    "pycharm": {
     "name": "#%% md\n"
    },
    "tags": []
   },
   "source": [
    "### Environment Setup\n",
    "This notebook was run using Python 3.8 with following packages installed:\n",
    "- langchain==0.0.177\n",
    "- pandas==2.0.1"
   ]
  },
  {
   "cell_type": "markdown",
   "id": "3570b4d4-199f-4b97-80b7-9d1d22cbbb70",
   "metadata": {
    "jp-MarkdownHeadingCollapsed": true,
    "tags": []
   },
   "source": [
    "## Load data"
   ]
  },
  {
   "cell_type": "code",
   "execution_count": 1,
   "id": "6ba8687a-3438-468c-8288-3ab8419d8dca",
   "metadata": {},
   "outputs": [],
   "source": [
    "import pandas as pd"
   ]
  },
  {
   "cell_type": "code",
   "execution_count": 2,
   "id": "347b0d46-7add-4055-bde1-b4a561cdec91",
   "metadata": {},
   "outputs": [
    {
     "data": {
      "text/plain": [
       "(1066, 8)"
      ]
     },
     "execution_count": 2,
     "metadata": {},
     "output_type": "execute_result"
    }
   ],
   "source": [
    "df = pd.read_csv(\"./data/delta-airlines-tweets.csv\")\n",
    "df.shape"
   ]
  },
  {
   "cell_type": "markdown",
   "id": "463ee0de-0695-46d6-b31f-d5ddf4040f0d",
   "metadata": {
    "jp-MarkdownHeadingCollapsed": true,
    "tags": []
   },
   "source": [
    "## Setup langchain"
   ]
  },
  {
   "cell_type": "markdown",
   "id": "917d1fa9-c37d-48c6-b5b2-077a0de2f2df",
   "metadata": {},
   "source": [
    "- [OpenAI Chat API reference](https://platform.openai.com/docs/guides/chat/introduction)\n",
    "- [Langchain API reference](https://python.langchain.com/en/latest/modules/models/chat/integrations/openai.html)\n",
    "\n",
    "Environment file:\n",
    "```\n",
    "OPENAI_API_KEY=<your-open-ai-key>\n",
    "```"
   ]
  },
  {
   "cell_type": "code",
   "execution_count": 3,
   "id": "f26f265b-7660-4ab5-aa39-2c35144aa365",
   "metadata": {},
   "outputs": [
    {
     "data": {
      "text/plain": [
       "True"
      ]
     },
     "execution_count": 3,
     "metadata": {},
     "output_type": "execute_result"
    }
   ],
   "source": [
    "# load open ai api key\n",
    "from dotenv import load_dotenv\n",
    "load_dotenv(\"../.env\")"
   ]
  },
  {
   "cell_type": "code",
   "execution_count": 4,
   "id": "e06b82bc-63dc-4ceb-804f-12149fb76883",
   "metadata": {},
   "outputs": [],
   "source": [
    "from langchain.chat_models import ChatOpenAI\n",
    "from langchain.prompts.chat import SystemMessagePromptTemplate, HumanMessagePromptTemplate, ChatPromptTemplate"
   ]
  },
  {
   "cell_type": "code",
   "execution_count": 5,
   "id": "fee51e89-1ff8-488b-b0a3-1293aec5ead1",
   "metadata": {},
   "outputs": [],
   "source": [
    "def build_chat_prompt(template):\n",
    "    system_message_prompt = SystemMessagePromptTemplate.from_template(\"\")\n",
    "    user_message_prompt = HumanMessagePromptTemplate.from_template(template)\n",
    "    return ChatPromptTemplate.from_messages([\n",
    "        system_message_prompt,\n",
    "        user_message_prompt])"
   ]
  },
  {
   "cell_type": "code",
   "execution_count": 6,
   "id": "9bc4f148-3121-42de-8ccf-13d9dac26e3a",
   "metadata": {},
   "outputs": [],
   "source": [
    "# temperature=0 makes the results a bit more deterministic\n",
    "chat = ChatOpenAI(temperature=0)"
   ]
  },
  {
   "cell_type": "markdown",
   "id": "68f2af8d-64c5-4661-8669-cf91ff86fbc7",
   "metadata": {
    "jp-MarkdownHeadingCollapsed": true,
    "tags": []
   },
   "source": [
    "## Get tweet category"
   ]
  },
  {
   "cell_type": "code",
   "execution_count": 7,
   "id": "132622e9-5749-4136-a858-4d8d935df756",
   "metadata": {},
   "outputs": [
    {
     "data": {
      "text/html": [
       "<div>\n",
       "<style scoped>\n",
       "    .dataframe tbody tr th:only-of-type {\n",
       "        vertical-align: middle;\n",
       "    }\n",
       "\n",
       "    .dataframe tbody tr th {\n",
       "        vertical-align: top;\n",
       "    }\n",
       "\n",
       "    .dataframe thead th {\n",
       "        text-align: right;\n",
       "    }\n",
       "</style>\n",
       "<table border=\"1\" class=\"dataframe\">\n",
       "  <thead>\n",
       "    <tr style=\"text-align: right;\">\n",
       "      <th></th>\n",
       "      <th>tweet_id</th>\n",
       "      <th>author_id</th>\n",
       "      <th>inbound</th>\n",
       "      <th>created_at</th>\n",
       "      <th>text</th>\n",
       "      <th>response_tweet_id</th>\n",
       "      <th>in_response_to_tweet_id</th>\n",
       "      <th>date</th>\n",
       "    </tr>\n",
       "  </thead>\n",
       "  <tbody>\n",
       "    <tr>\n",
       "      <th>0</th>\n",
       "      <td>586413</td>\n",
       "      <td>165165</td>\n",
       "      <td>True</td>\n",
       "      <td>Sun Dec 03 15:22:01 +0000 2017</td>\n",
       "      <td>@Delta I do really appreciate the app notifica...</td>\n",
       "      <td>586412</td>\n",
       "      <td>NaN</td>\n",
       "      <td>2017-12-03</td>\n",
       "    </tr>\n",
       "    <tr>\n",
       "      <th>1</th>\n",
       "      <td>581584</td>\n",
       "      <td>243849</td>\n",
       "      <td>True</td>\n",
       "      <td>Sun Dec 03 12:03:39 +0000 2017</td>\n",
       "      <td>TYSM @Delta #472 for the fabulous flight #delt...</td>\n",
       "      <td>581583</td>\n",
       "      <td>NaN</td>\n",
       "      <td>2017-12-03</td>\n",
       "    </tr>\n",
       "  </tbody>\n",
       "</table>\n",
       "</div>"
      ],
      "text/plain": [
       "   tweet_id  author_id  inbound                      created_at   \n",
       "0    586413     165165     True  Sun Dec 03 15:22:01 +0000 2017  \\\n",
       "1    581584     243849     True  Sun Dec 03 12:03:39 +0000 2017   \n",
       "\n",
       "                                                text response_tweet_id   \n",
       "0  @Delta I do really appreciate the app notifica...            586412  \\\n",
       "1  TYSM @Delta #472 for the fabulous flight #delt...            581583   \n",
       "\n",
       "   in_response_to_tweet_id        date  \n",
       "0                      NaN  2017-12-03  \n",
       "1                      NaN  2017-12-03  "
      ]
     },
     "execution_count": 7,
     "metadata": {},
     "output_type": "execute_result"
    }
   ],
   "source": [
    "df.head(2)"
   ]
  },
  {
   "cell_type": "code",
   "execution_count": 8,
   "id": "3929eb73-d7e4-437c-92ed-add9d163a6d5",
   "metadata": {},
   "outputs": [
    {
     "data": {
      "text/plain": [
       "[\"I need my in-flight coffee @Delta, but I can't do black. Please add nondairy #vegan creamers. ☕️\",\n",
       " \"You know what's still a GREAT movie? Gladiator. \\n\\nThanks for making it an option @Delta.\\n\\nYes, I was entertained. https://t.co/bK2FD5jaHs\",\n",
       " '50 mins on the runway @124202 awaited takeoff. After a 2 hour flight delay. What’s going on @delta????',\n",
       " '@delta love you guys..but I need to change my reward flight..need to come home two days earlier than expected. #lifeofanurse but system is down?',\n",
       " 'I’m away from “home” about 260 days a year, some may say I travel a lot! First time EVER today flying @Delta, first leg great, lounge fantastic. One sector to go until I get “home”. So far I’m impressed!',\n",
       " '@Delta follow me please I enjoy your service',\n",
       " 'Tasha was helpful. The other lady was rude. Because of that, the @delta flt w room for all of us filled up. #flyingsolonow #hopeweallmakeit #deltadoesntcare',\n",
       " 'I got on my @Delta flight and asked for some water while we were still boarding because I have a headache and the flight attendant not only got me water but gave me some Tylenol too! Great service from the crew on DL2544!',\n",
       " '@Delta you guys are fantastic...i m with chef Diedrik and Mrs Seble here having fun https://t.co/Vg96PEmw3f',\n",
       " \"I just want to say that when I fly, I'll only fly @Delta. Their staff is beyond helpful! I always dreamt of flying to Australia, and last year, and they made it a reality. Now all I need is a job with them! I'd be so happy.\"]"
      ]
     },
     "execution_count": 8,
     "metadata": {},
     "output_type": "execute_result"
    }
   ],
   "source": [
    "df.sample(10).text.tolist()"
   ]
  },
  {
   "cell_type": "markdown",
   "id": "284c51d6-f034-47b6-bc4e-fe7ddcc898b0",
   "metadata": {
    "tags": []
   },
   "source": [
    "### setup prompt"
   ]
  },
  {
   "cell_type": "code",
   "execution_count": 9,
   "id": "e0d926a4-a338-4e3e-ace7-8eabc19e4faf",
   "metadata": {},
   "outputs": [],
   "source": [
    "category_prompt_template = \"\"\"\n",
    "you are a customer support agent for Delta Air Lines in the USA \\\n",
    "who is responding to tweets from users. given a tweet, you are supposed \\\n",
    "to classify it into one of the following categories:\n",
    "\n",
    "- complaint\n",
    "- question\n",
    "- compliment\n",
    "\n",
    "If a tweet does not fall into any of the above categories, mark it as \"other\".\n",
    "\n",
    "classify the following tweet:\n",
    "\n",
    "{tweet}\n",
    "\"\"\"\n",
    "chat_prompt = build_chat_prompt(category_prompt_template)"
   ]
  },
  {
   "cell_type": "code",
   "execution_count": 10,
   "id": "4270c8f0-91ed-4437-ac7b-a65fb18bddb3",
   "metadata": {},
   "outputs": [
    {
     "name": "stdout",
     "output_type": "stream",
     "text": [
      "tweet: @Delta in Canun and you cancelled my girlfriends flight for no reason thanks for nothing!!!\n",
      "Rude staff, Horrible person ignoring me, unhelpful now I have to stay overnight in Atlanta terrible service.\n",
      "I take several flights a year Delta are now bottom of my list. \n",
      "\n",
      "response: complaint\n"
     ]
    }
   ],
   "source": [
    "sample_tweet = df.sample(1).text.iloc[0]\n",
    "sample_response = chat(chat_prompt.format_prompt(tweet=sample_tweet).to_messages())\n",
    "print(f\"tweet: {sample_tweet} \\n\\nresponse: {sample_response.content}\")"
   ]
  },
  {
   "cell_type": "markdown",
   "id": "862993d9-22ff-4cfc-9d33-342224b48fea",
   "metadata": {
    "tags": []
   },
   "source": [
    "### run for entire dataset"
   ]
  },
  {
   "cell_type": "code",
   "execution_count": 11,
   "id": "3d8e094a-548b-4840-b7bf-c0f11a897b63",
   "metadata": {},
   "outputs": [
    {
     "data": {
      "text/plain": [
       "1066"
      ]
     },
     "execution_count": 11,
     "metadata": {},
     "output_type": "execute_result"
    }
   ],
   "source": [
    "batch_messages = [chat_prompt.format_prompt(tweet=tweet).to_messages()\n",
    "                  for tweet in df.text]\n",
    "len(batch_messages)"
   ]
  },
  {
   "cell_type": "markdown",
   "id": "2d6a9048-1d13-485e-9d39-d37ed15bb023",
   "metadata": {},
   "source": [
    "Using the %time magic here to show the amount of time these API calls could take. This can be improved by reaching out to open ai support if you are putting code into production at scale."
   ]
  },
  {
   "cell_type": "code",
   "execution_count": 12,
   "id": "b3bdc081-ff72-4b4b-84fe-20205222e1ae",
   "metadata": {
    "tags": []
   },
   "outputs": [
    {
     "name": "stderr",
     "output_type": "stream",
     "text": [
      "Retrying langchain.chat_models.openai.ChatOpenAI.completion_with_retry.<locals>._completion_with_retry in 1.0 seconds as it raised RateLimitError: That model is currently overloaded with other requests. You can retry your request, or contact us through our help center at help.openai.com if the error persists. (Please include the request ID 615e0426bfa4e410c54e3cd74e9ad932 in your message.).\n",
      "Retrying langchain.chat_models.openai.ChatOpenAI.completion_with_retry.<locals>._completion_with_retry in 1.0 seconds as it raised RateLimitError: That model is currently overloaded with other requests. You can retry your request, or contact us through our help center at help.openai.com if the error persists. (Please include the request ID cc296ac2f3c95aa5c8e2a394a94ff144 in your message.).\n",
      "Retrying langchain.chat_models.openai.ChatOpenAI.completion_with_retry.<locals>._completion_with_retry in 1.0 seconds as it raised RateLimitError: That model is currently overloaded with other requests. You can retry your request, or contact us through our help center at help.openai.com if the error persists. (Please include the request ID 1c4429e04d0d98514971e0218b274841 in your message.).\n",
      "Retrying langchain.chat_models.openai.ChatOpenAI.completion_with_retry.<locals>._completion_with_retry in 1.0 seconds as it raised RateLimitError: That model is currently overloaded with other requests. You can retry your request, or contact us through our help center at help.openai.com if the error persists. (Please include the request ID ebfffe861efbbaaf9470bdafdfc1f0c1 in your message.).\n",
      "Retrying langchain.chat_models.openai.ChatOpenAI.completion_with_retry.<locals>._completion_with_retry in 1.0 seconds as it raised RateLimitError: That model is currently overloaded with other requests. You can retry your request, or contact us through our help center at help.openai.com if the error persists. (Please include the request ID 9401a417b1294fabedd007aee14b111e in your message.).\n",
      "Retrying langchain.chat_models.openai.ChatOpenAI.completion_with_retry.<locals>._completion_with_retry in 1.0 seconds as it raised RateLimitError: That model is currently overloaded with other requests. You can retry your request, or contact us through our help center at help.openai.com if the error persists. (Please include the request ID a4f5f651c794b525f50e3ed4f0050be4 in your message.).\n",
      "Retrying langchain.chat_models.openai.ChatOpenAI.completion_with_retry.<locals>._completion_with_retry in 1.0 seconds as it raised RateLimitError: That model is currently overloaded with other requests. You can retry your request, or contact us through our help center at help.openai.com if the error persists. (Please include the request ID 8042f0f42830ac5cf9e679b61c66e73e in your message.).\n",
      "Retrying langchain.chat_models.openai.ChatOpenAI.completion_with_retry.<locals>._completion_with_retry in 1.0 seconds as it raised RateLimitError: That model is currently overloaded with other requests. You can retry your request, or contact us through our help center at help.openai.com if the error persists. (Please include the request ID dd0cccd4239e383bb071071957592dbd in your message.).\n",
      "Retrying langchain.chat_models.openai.ChatOpenAI.completion_with_retry.<locals>._completion_with_retry in 1.0 seconds as it raised RateLimitError: That model is currently overloaded with other requests. You can retry your request, or contact us through our help center at help.openai.com if the error persists. (Please include the request ID fc8b70ee42ddc86a916430fa9cd5a819 in your message.).\n",
      "Retrying langchain.chat_models.openai.ChatOpenAI.completion_with_retry.<locals>._completion_with_retry in 1.0 seconds as it raised RateLimitError: That model is currently overloaded with other requests. You can retry your request, or contact us through our help center at help.openai.com if the error persists. (Please include the request ID 0daa37d5f5fe8120b8c3349a8a9c39c5 in your message.).\n",
      "Retrying langchain.chat_models.openai.ChatOpenAI.completion_with_retry.<locals>._completion_with_retry in 1.0 seconds as it raised RateLimitError: That model is currently overloaded with other requests. You can retry your request, or contact us through our help center at help.openai.com if the error persists. (Please include the request ID 03acfed55eb150f2915e274533162da9 in your message.).\n",
      "Retrying langchain.chat_models.openai.ChatOpenAI.completion_with_retry.<locals>._completion_with_retry in 1.0 seconds as it raised RateLimitError: That model is currently overloaded with other requests. You can retry your request, or contact us through our help center at help.openai.com if the error persists. (Please include the request ID cdad6637787df9c705b6879953ab4ace in your message.).\n"
     ]
    },
    {
     "name": "stdout",
     "output_type": "stream",
     "text": [
      "CPU times: user 4 s, sys: 501 ms, total: 4.5 s\n",
      "Wall time: 25min 14s\n"
     ]
    }
   ],
   "source": [
    "%time result = chat.generate(batch_messages)"
   ]
  },
  {
   "cell_type": "code",
   "execution_count": 13,
   "id": "e2e7bfee-6ed4-41a7-b879-abbce526ca33",
   "metadata": {},
   "outputs": [
    {
     "data": {
      "text/plain": [
       "1066"
      ]
     },
     "execution_count": 13,
     "metadata": {},
     "output_type": "execute_result"
    }
   ],
   "source": [
    "len(result.generations)"
   ]
  },
  {
   "cell_type": "code",
   "execution_count": 14,
   "id": "0684d92a-c3bb-4676-adac-79932a8fcdb0",
   "metadata": {},
   "outputs": [],
   "source": [
    "df.loc[:, \"category_raw\"] = [x[0].text for x in result.generations]"
   ]
  },
  {
   "cell_type": "code",
   "execution_count": 15,
   "id": "cd00745c-da03-4ed6-acc4-e176dfbddc7c",
   "metadata": {},
   "outputs": [
    {
     "data": {
      "text/plain": [
       "category_raw\n",
       "complaint               424\n",
       "compliment              333\n",
       "question                246\n",
       "other                    41\n",
       "Category: Complaint       5\n",
       "category: complaint       5\n",
       "category: question        4\n",
       "Question                  2\n",
       "Category: Question.       2\n",
       "Category: Complaint.      1\n",
       "Category: question.       1\n",
       "Category: question        1\n",
       "suggestion                1\n",
       "Name: count, dtype: int64"
      ]
     },
     "execution_count": 15,
     "metadata": {},
     "output_type": "execute_result"
    }
   ],
   "source": [
    "df.category_raw.value_counts()"
   ]
  },
  {
   "cell_type": "markdown",
   "id": "3e245d47-d222-48b3-9360-6dcdc6df5b2f",
   "metadata": {},
   "source": [
    "### parse output"
   ]
  },
  {
   "cell_type": "code",
   "execution_count": 16,
   "id": "3bed0941-0d7c-43b5-ab90-c2c7e939aa69",
   "metadata": {},
   "outputs": [],
   "source": [
    "import re"
   ]
  },
  {
   "cell_type": "code",
   "execution_count": 17,
   "id": "140d5c86-2455-40fe-801a-d472ddc50803",
   "metadata": {},
   "outputs": [],
   "source": [
    "def extract_category(raw):\n",
    "    pattern = re.compile(\"compliment|complaint|question|other\")\n",
    "    match = pattern.search(raw.lower())\n",
    "    if match is None:\n",
    "        return None\n",
    "    return match.group()"
   ]
  },
  {
   "cell_type": "code",
   "execution_count": 18,
   "id": "d3f12333-f988-44ae-a86f-650bf1720abb",
   "metadata": {},
   "outputs": [],
   "source": [
    "df.loc[:, \"category\"] = df.category_raw.apply(extract_category)"
   ]
  },
  {
   "cell_type": "code",
   "execution_count": 19,
   "id": "24b32ba3-f97c-43fe-a55c-37cbb309fc16",
   "metadata": {},
   "outputs": [
    {
     "data": {
      "text/html": [
       "<div>\n",
       "<style scoped>\n",
       "    .dataframe tbody tr th:only-of-type {\n",
       "        vertical-align: middle;\n",
       "    }\n",
       "\n",
       "    .dataframe tbody tr th {\n",
       "        vertical-align: top;\n",
       "    }\n",
       "\n",
       "    .dataframe thead th {\n",
       "        text-align: right;\n",
       "    }\n",
       "</style>\n",
       "<table border=\"1\" class=\"dataframe\">\n",
       "  <thead>\n",
       "    <tr style=\"text-align: right;\">\n",
       "      <th></th>\n",
       "      <th>tweet_id</th>\n",
       "      <th>author_id</th>\n",
       "      <th>inbound</th>\n",
       "      <th>created_at</th>\n",
       "      <th>text</th>\n",
       "      <th>response_tweet_id</th>\n",
       "      <th>in_response_to_tweet_id</th>\n",
       "      <th>date</th>\n",
       "      <th>category_raw</th>\n",
       "      <th>category</th>\n",
       "    </tr>\n",
       "  </thead>\n",
       "  <tbody>\n",
       "    <tr>\n",
       "      <th>928</th>\n",
       "      <td>511880</td>\n",
       "      <td>237698</td>\n",
       "      <td>True</td>\n",
       "      <td>Fri Dec 01 22:47:52 +0000 2017</td>\n",
       "      <td>Hey @delta, ever considered offering #cancer p...</td>\n",
       "      <td>511879</td>\n",
       "      <td>NaN</td>\n",
       "      <td>2017-12-01</td>\n",
       "      <td>suggestion</td>\n",
       "      <td>None</td>\n",
       "    </tr>\n",
       "  </tbody>\n",
       "</table>\n",
       "</div>"
      ],
      "text/plain": [
       "     tweet_id  author_id  inbound                      created_at   \n",
       "928    511880     237698     True  Fri Dec 01 22:47:52 +0000 2017  \\\n",
       "\n",
       "                                                  text response_tweet_id   \n",
       "928  Hey @delta, ever considered offering #cancer p...            511879  \\\n",
       "\n",
       "     in_response_to_tweet_id        date category_raw category  \n",
       "928                      NaN  2017-12-01   suggestion     None  "
      ]
     },
     "execution_count": 19,
     "metadata": {},
     "output_type": "execute_result"
    }
   ],
   "source": [
    "df.loc[df.category.isnull()]"
   ]
  },
  {
   "cell_type": "code",
   "execution_count": 20,
   "id": "70f0e0c4-10d8-45d1-a1bd-fd4ee4102c43",
   "metadata": {},
   "outputs": [
    {
     "data": {
      "text/plain": [
       "category\n",
       "complaint     435\n",
       "compliment    333\n",
       "question      256\n",
       "other          41\n",
       "Name: count, dtype: int64"
      ]
     },
     "execution_count": 20,
     "metadata": {},
     "output_type": "execute_result"
    }
   ],
   "source": [
    "df.category.value_counts()"
   ]
  },
  {
   "cell_type": "code",
   "execution_count": 21,
   "id": "96c5067e-0c38-4017-b539-1fd61dd19fac",
   "metadata": {},
   "outputs": [],
   "source": [
    "def sample_category(category, n):\n",
    "    print(\"\\n\\n\".join(list(df.loc[df.category == category].text.sample(n))))"
   ]
  },
  {
   "cell_type": "code",
   "execution_count": 23,
   "id": "49ff5abb-ea2f-4540-b651-ec947d92f578",
   "metadata": {},
   "outputs": [
    {
     "name": "stdout",
     "output_type": "stream",
     "text": [
      "@Delta my traveling companion was able to check in via mobile app but I can’t. Please help!\n",
      "\n",
      "@Delta Why dont you include active service men &amp; women for priority boarding? I flew FT from SRQ-ATL &amp; noticed omission.\n",
      "#HonorThoseWhoServeTheFlag\n",
      "\n",
      "I need my in-flight coffee @Delta, but I can't do black. Please add nondairy #vegan creamers. ☕️\n",
      "\n",
      "@delta what is the checked bag weight limit for domestic first class?  And restrictions on bag size?\n",
      "\n",
      "@Delta traveling on dec 10th o delta to Amsterdam but my able to choose better seat please help.\n"
     ]
    }
   ],
   "source": [
    "sample_category(\"question\", 5)"
   ]
  },
  {
   "cell_type": "code",
   "execution_count": 24,
   "id": "ea94fa99-dd5a-4a4b-9fa3-89302e75fb3c",
   "metadata": {},
   "outputs": [],
   "source": [
    "df.to_csv(\"./data/delta-tweets-with-category.csv\", index=False)"
   ]
  },
  {
   "cell_type": "markdown",
   "id": "f1ecaf39-f6ef-434c-955e-a4ade392e457",
   "metadata": {
    "jp-MarkdownHeadingCollapsed": true,
    "tags": []
   },
   "source": [
    "## Get reason for complaints"
   ]
  },
  {
   "cell_type": "markdown",
   "id": "d422be0a-c129-4895-9da9-0f98480fe254",
   "metadata": {},
   "source": [
    "This is a good first start, but for an actual appication perspective we need to see where exactly we're going wrong. Let's try to classify the negative reviews further into some categories:\n",
    "\n",
    "- Bad Flight Experience\n",
    "- Flight Cancellation\n",
    "- Flight Delays\n",
    "- Poor Customer Service\n",
    "- Damaged Luggage\n",
    "- Flight Attendant Complaints\n",
    "- Flight Booking Problems\n",
    "- Lost Luggage\n",
    "- Other"
   ]
  },
  {
   "cell_type": "code",
   "execution_count": 25,
   "id": "21fb907f-d1a3-48c7-ad38-dce8da7a9411",
   "metadata": {},
   "outputs": [
    {
     "data": {
      "text/plain": [
       "(435, 10)"
      ]
     },
     "execution_count": 25,
     "metadata": {},
     "output_type": "execute_result"
    }
   ],
   "source": [
    "df_complaints = df.loc[df.category == \"complaint\"]\n",
    "df_complaints.shape"
   ]
  },
  {
   "cell_type": "markdown",
   "id": "9c4699d2-668a-4986-9355-2314e2329e88",
   "metadata": {},
   "source": [
    "### setup prompt"
   ]
  },
  {
   "cell_type": "code",
   "execution_count": 26,
   "id": "2622c7a6-1dee-4691-812c-640e7a037ff1",
   "metadata": {},
   "outputs": [],
   "source": [
    "neg_category_prompt_template = \"\"\"\n",
    "you are a customer support agent for one of the largest airlines in the USA \\\n",
    "who is responding to tweets from users. \n",
    "\n",
    "given a tweet where a customer is complaining, you are supposed to identify the \\\n",
    "reason for the complaint and classify it into one of the following categories:\n",
    "\n",
    "- Flight Cancellation\n",
    "- Flight Delays\n",
    "- Bad Flight Experience\n",
    "- Lost/Damaged Luggage\n",
    "- Flight Attendant Complaints\n",
    "- Flight Booking Problems\n",
    "- Poor Customer Service\n",
    "\n",
    "If a tweet does not fall into any of the above categories, mark it as \"other\".\n",
    "\n",
    "classify the following tweet:\n",
    "\n",
    "{tweet}\n",
    "\"\"\""
   ]
  },
  {
   "cell_type": "code",
   "execution_count": 27,
   "id": "58daaf57-5f2e-42f6-8a91-71baa6fe8538",
   "metadata": {},
   "outputs": [],
   "source": [
    "chat_prompt_complaint = build_chat_prompt(neg_category_prompt_template)"
   ]
  },
  {
   "cell_type": "code",
   "execution_count": 30,
   "id": "3ea61457-cc28-4e08-8bfa-cb594f4ba720",
   "metadata": {},
   "outputs": [
    {
     "name": "stderr",
     "output_type": "stream",
     "text": [
      "Retrying langchain.chat_models.openai.ChatOpenAI.completion_with_retry.<locals>._completion_with_retry in 1.0 seconds as it raised RateLimitError: That model is currently overloaded with other requests. You can retry your request, or contact us through our help center at help.openai.com if the error persists. (Please include the request ID b7816dcbe0e0ab68d70cc99eb97686e3 in your message.).\n"
     ]
    },
    {
     "name": "stdout",
     "output_type": "stream",
     "text": [
      "tweet: @Delta @824 33-55min wait time when I need an immediate response NOW since at airport?? wth Delta. \n",
      "\n",
      "response: Poor Customer Service.\n"
     ]
    }
   ],
   "source": [
    "sample_tweet = df_complaints.sample(1).text.iloc[0]\n",
    "sample_response = chat(chat_prompt_complaint.format_prompt(tweet=sample_tweet).to_messages())\n",
    "print(f\"tweet: {sample_tweet} \\n\\nresponse: {sample_response.content}\")"
   ]
  },
  {
   "cell_type": "markdown",
   "id": "3da47db9-bd68-446d-b877-fb9533a8c40b",
   "metadata": {},
   "source": [
    "### run at scale"
   ]
  },
  {
   "cell_type": "code",
   "execution_count": 31,
   "id": "79695763-2d5e-4c82-a6ce-83e17e6bd7e4",
   "metadata": {
    "scrolled": true,
    "tags": []
   },
   "outputs": [],
   "source": [
    "batch_messages = [chat_prompt_complaint.format_prompt(tweet=tweet).to_messages()\n",
    "                  for tweet in df_complaints.text]"
   ]
  },
  {
   "cell_type": "code",
   "execution_count": 32,
   "id": "fcc08625-0164-4ec4-98c9-701615a69406",
   "metadata": {},
   "outputs": [
    {
     "name": "stderr",
     "output_type": "stream",
     "text": [
      "Retrying langchain.chat_models.openai.ChatOpenAI.completion_with_retry.<locals>._completion_with_retry in 1.0 seconds as it raised RateLimitError: That model is currently overloaded with other requests. You can retry your request, or contact us through our help center at help.openai.com if the error persists. (Please include the request ID 21ab43c31eff05abbd2ecf316e289285 in your message.).\n",
      "Retrying langchain.chat_models.openai.ChatOpenAI.completion_with_retry.<locals>._completion_with_retry in 1.0 seconds as it raised RateLimitError: That model is currently overloaded with other requests. You can retry your request, or contact us through our help center at help.openai.com if the error persists. (Please include the request ID 078ad459241774b047cfee05ceff5907 in your message.).\n",
      "Retrying langchain.chat_models.openai.ChatOpenAI.completion_with_retry.<locals>._completion_with_retry in 1.0 seconds as it raised RateLimitError: That model is currently overloaded with other requests. You can retry your request, or contact us through our help center at help.openai.com if the error persists. (Please include the request ID d0c04f766708a50ade8fefff9145546f in your message.).\n",
      "Retrying langchain.chat_models.openai.ChatOpenAI.completion_with_retry.<locals>._completion_with_retry in 1.0 seconds as it raised RateLimitError: That model is currently overloaded with other requests. You can retry your request, or contact us through our help center at help.openai.com if the error persists. (Please include the request ID 1074c42dcd699935ad5dd3efc2e125ce in your message.).\n",
      "Retrying langchain.chat_models.openai.ChatOpenAI.completion_with_retry.<locals>._completion_with_retry in 1.0 seconds as it raised RateLimitError: That model is currently overloaded with other requests. You can retry your request, or contact us through our help center at help.openai.com if the error persists. (Please include the request ID bdd01d1473f4e84583ac7b0151ad7c5a in your message.).\n",
      "Retrying langchain.chat_models.openai.ChatOpenAI.completion_with_retry.<locals>._completion_with_retry in 1.0 seconds as it raised RateLimitError: That model is currently overloaded with other requests. You can retry your request, or contact us through our help center at help.openai.com if the error persists. (Please include the request ID 8a167fa694cb2121922e4ac85ca4e4e3 in your message.).\n",
      "Retrying langchain.chat_models.openai.ChatOpenAI.completion_with_retry.<locals>._completion_with_retry in 1.0 seconds as it raised RateLimitError: That model is currently overloaded with other requests. You can retry your request, or contact us through our help center at help.openai.com if the error persists. (Please include the request ID 12ff2ce38c1c543d3b45d4629dba9940 in your message.).\n"
     ]
    },
    {
     "name": "stdout",
     "output_type": "stream",
     "text": [
      "CPU times: user 1.69 s, sys: 218 ms, total: 1.9 s\n",
      "Wall time: 14min 15s\n"
     ]
    }
   ],
   "source": [
    "%time result_complaint = chat.generate(batch_messages)"
   ]
  },
  {
   "cell_type": "code",
   "execution_count": 34,
   "id": "0285f196-b0fb-48f0-bf1d-355db0770e55",
   "metadata": {},
   "outputs": [],
   "source": [
    "df_complaints.loc[:, \"complaint_category_raw\"] = [x[0].text for x in result_complaint.generations]"
   ]
  },
  {
   "cell_type": "code",
   "execution_count": 35,
   "id": "3e639afe-16a8-451d-9a10-65b3952b4208",
   "metadata": {},
   "outputs": [
    {
     "data": {
      "text/plain": [
       "complaint_category_raw\n",
       "Flight Booking Problems                                                                                                                                                                                              86\n",
       "Category: Flight Delays                                                                                                                                                                                              62\n",
       "Category: Bad Flight Experience.                                                                                                                                                                                     53\n",
       "Lost/Damaged Luggage.                                                                                                                                                                                                30\n",
       "Category: Poor Customer Service                                                                                                                                                                                      28\n",
       "Category: Flight Booking Problems                                                                                                                                                                                    24\n",
       "Poor Customer Service.                                                                                                                                                                                               15\n",
       "Category: Poor Customer Service.                                                                                                                                                                                     15\n",
       "Bad Flight Experience.                                                                                                                                                                                               13\n",
       "Lost/Damaged Luggage                                                                                                                                                                                                 12\n",
       "Category: Flight Delays.                                                                                                                                                                                             12\n",
       "Flight Attendant Complaints                                                                                                                                                                                          10\n",
       "Flight Delays                                                                                                                                                                                                         7\n",
       "Category: Flight Cancellation                                                                                                                                                                                         7\n",
       "Other.                                                                                                                                                                                                                5\n",
       "Category: Bad Flight Experience                                                                                                                                                                                       5\n",
       "Bad Flight Experience                                                                                                                                                                                                 5\n",
       "Category: Other.                                                                                                                                                                                                      4\n",
       "Category: Flight Booking Problems.                                                                                                                                                                                    4\n",
       "Flight Booking Problems.                                                                                                                                                                                              3\n",
       "Category: Flight Attendant Complaints                                                                                                                                                                                 3\n",
       "Category: Flight Delays and Poor Customer Service.                                                                                                                                                                    2\n",
       "Categories: Flight Delays, Poor Customer Service.                                                                                                                                                                     2\n",
       "Poor Customer Service                                                                                                                                                                                                 2\n",
       "Flight Experience Complaint.                                                                                                                                                                                          2\n",
       "Flight Cancellation                                                                                                                                                                                                   1\n",
       "Category: Flight Attendant Complaints.                                                                                                                                                                                1\n",
       "Category: Lost/Damaged Luggage and Poor Customer Service.                                                                                                                                                             1\n",
       "Category: Poor Customer Service and Lost/Damaged Luggage.                                                                                                                                                             1\n",
       "Category: Flight Cancellation.                                                                                                                                                                                        1\n",
       "Categories: Flight Delays, Flight Booking Problems, Poor Customer Service.                                                                                                                                            1\n",
       "Category: Other                                                                                                                                                                                                       1\n",
       "Category: Flight Delays\\nReason for complaint: Missed scheduling a flight attendant resulting in a 2-hour delay.                                                                                                      1\n",
       "Category: Other. \\n\\nThe tweet is not related to any of the categories mentioned. The customer is simply requesting Delta to fix the outlets.                                                                         1\n",
       "Categories: Bad Flight Experience, Flight Attendant Complaints, Flight Booking Problems.                                                                                                                              1\n",
       "Reason for complaint: Flight Delays and Lost/Damaged Luggage\\nCategory: Flight Delays, Lost/Damaged Luggage                                                                                                           1\n",
       "Category: Other. \\n\\nThis tweet is not related to any of the categories mentioned above. The customer is reporting a technical issue with accessing Delta's website from a specific browser and operating system.     1\n",
       "Category: Other. The tweet does not provide any specific reason for the complaint.                                                                                                                                    1\n",
       "other.                                                                                                                                                                                                                1\n",
       "Category: Other. \\n\\nThis tweet does not provide enough information to classify it into any of the given categories. It is a general complaint without any specific details about the issue.                          1\n",
       "Category: Flight Booking Problems and Poor Customer Service.                                                                                                                                                          1\n",
       "Reason for complaint: Flight Cancellation\\nCategory: Flight Cancellation                                                                                                                                              1\n",
       "Category: Other. \\n\\nThis tweet does not seem to be a complaint about any of the airline's services or products. It is a humorous comment about a specific location in the airport.                                   1\n",
       "Reason for complaint: Bad Flight Experience\\nCategory: Flight Boarding Problems                                                                                                                                       1\n",
       "Flight Experience - Inconvenient airport transportation.                                                                                                                                                              1\n",
       "Category: Other. \\n\\nThe tweet does not provide enough information to classify the complaint into any of the given categories.                                                                                        1\n",
       "Category: Poor Customer Service and Flight Attendant Complaints.                                                                                                                                                      1\n",
       "Flight Experience - WiFi not working on multiple flights.                                                                                                                                                             1\n",
       "Category: Flight Experience Complaints.                                                                                                                                                                               1\n",
       "Name: count, dtype: int64"
      ]
     },
     "execution_count": 35,
     "metadata": {},
     "output_type": "execute_result"
    }
   ],
   "source": [
    "df_complaints.complaint_category_raw.value_counts()"
   ]
  },
  {
   "cell_type": "markdown",
   "id": "d3ce51f5-996c-49c7-9142-a03554edacb1",
   "metadata": {},
   "source": [
    "### parse output"
   ]
  },
  {
   "cell_type": "code",
   "execution_count": 38,
   "id": "854872b8-c253-4ff8-8732-f8d48cd54507",
   "metadata": {},
   "outputs": [],
   "source": [
    "neg_categories = [\n",
    "    \"Flight Cancellation\",\n",
    "    \"Flight Delays\",\n",
    "    \"Bad Flight Experience\",\n",
    "    \"Lost/Damaged Luggage\",\n",
    "    \"Flight Attendant Complaints\",\n",
    "    \"Flight Booking Problems\",\n",
    "    \"Poor Customer Service\",\n",
    "    \"Other\"\n",
    "]\n",
    "def extract_complaint_category(raw):\n",
    "    pattern = re.compile(\"|\".join(neg_categories), re.IGNORECASE)\n",
    "    match = pattern.search(raw.lower())\n",
    "    if match is None:\n",
    "        return None\n",
    "    return match.group()"
   ]
  },
  {
   "cell_type": "code",
   "execution_count": 39,
   "id": "4b47c7c9-01ec-45c0-96cb-034f79cb1972",
   "metadata": {},
   "outputs": [],
   "source": [
    "df_complaints.loc[:, \"category\"] = df_complaints.complaint_category_raw.apply(\n",
    "    extract_complaint_category)"
   ]
  },
  {
   "cell_type": "code",
   "execution_count": 40,
   "id": "f6fc2d94-a18c-437a-b9de-a7fa84bfb067",
   "metadata": {},
   "outputs": [
    {
     "data": {
      "text/plain": [
       "category\n",
       "flight booking problems        118\n",
       "flight delays                   88\n",
       "bad flight experience           78\n",
       "poor customer service           62\n",
       "lost/damaged luggage            43\n",
       "other                           17\n",
       "flight attendant complaints     14\n",
       "flight cancellation             10\n",
       "Name: count, dtype: int64"
      ]
     },
     "execution_count": 40,
     "metadata": {},
     "output_type": "execute_result"
    }
   ],
   "source": [
    "df_complaints.category.value_counts()"
   ]
  },
  {
   "cell_type": "code",
   "execution_count": 41,
   "id": "35fdb395-cea7-4493-bffb-e111efc5f25e",
   "metadata": {},
   "outputs": [
    {
     "data": {
      "text/html": [
       "<div>\n",
       "<style scoped>\n",
       "    .dataframe tbody tr th:only-of-type {\n",
       "        vertical-align: middle;\n",
       "    }\n",
       "\n",
       "    .dataframe tbody tr th {\n",
       "        vertical-align: top;\n",
       "    }\n",
       "\n",
       "    .dataframe thead th {\n",
       "        text-align: right;\n",
       "    }\n",
       "</style>\n",
       "<table border=\"1\" class=\"dataframe\">\n",
       "  <thead>\n",
       "    <tr style=\"text-align: right;\">\n",
       "      <th></th>\n",
       "      <th>tweet_id</th>\n",
       "      <th>author_id</th>\n",
       "      <th>inbound</th>\n",
       "      <th>created_at</th>\n",
       "      <th>text</th>\n",
       "      <th>response_tweet_id</th>\n",
       "      <th>in_response_to_tweet_id</th>\n",
       "      <th>date</th>\n",
       "      <th>category_raw</th>\n",
       "      <th>category</th>\n",
       "      <th>complaint_category_raw</th>\n",
       "    </tr>\n",
       "  </thead>\n",
       "  <tbody>\n",
       "    <tr>\n",
       "      <th>41</th>\n",
       "      <td>586419</td>\n",
       "      <td>258486</td>\n",
       "      <td>True</td>\n",
       "      <td>Sun Dec 03 15:13:56 +0000 2017</td>\n",
       "      <td>@DELTA so is policy to install navigation upgr...</td>\n",
       "      <td>586418,586420</td>\n",
       "      <td>NaN</td>\n",
       "      <td>2017-12-03</td>\n",
       "      <td>complaint</td>\n",
       "      <td>None</td>\n",
       "      <td>Flight Experience Complaint.</td>\n",
       "    </tr>\n",
       "    <tr>\n",
       "      <th>96</th>\n",
       "      <td>565474</td>\n",
       "      <td>247709</td>\n",
       "      <td>True</td>\n",
       "      <td>Sun Dec 03 00:40:34 +0000 2017</td>\n",
       "      <td>This is the 2nd flight I’ve been on today @Del...</td>\n",
       "      <td>565472</td>\n",
       "      <td>NaN</td>\n",
       "      <td>2017-12-03</td>\n",
       "      <td>complaint</td>\n",
       "      <td>None</td>\n",
       "      <td>Flight Experience - WiFi not working on multip...</td>\n",
       "    </tr>\n",
       "    <tr>\n",
       "      <th>262</th>\n",
       "      <td>597387</td>\n",
       "      <td>183666</td>\n",
       "      <td>True</td>\n",
       "      <td>Sun Dec 03 19:51:39 +0000 2017</td>\n",
       "      <td>@2838 why do you only have one bus on Friday n...</td>\n",
       "      <td>597385</td>\n",
       "      <td>NaN</td>\n",
       "      <td>2017-12-03</td>\n",
       "      <td>complaint</td>\n",
       "      <td>None</td>\n",
       "      <td>Flight Experience - Inconvenient airport trans...</td>\n",
       "    </tr>\n",
       "    <tr>\n",
       "      <th>356</th>\n",
       "      <td>535349</td>\n",
       "      <td>244033</td>\n",
       "      <td>True</td>\n",
       "      <td>Sat Dec 02 12:22:39 +0000 2017</td>\n",
       "      <td>@delta who do I submit my complaint to regardi...</td>\n",
       "      <td>535348</td>\n",
       "      <td>NaN</td>\n",
       "      <td>2017-12-02</td>\n",
       "      <td>Category: Complaint</td>\n",
       "      <td>None</td>\n",
       "      <td>Flight Experience Complaint.</td>\n",
       "    </tr>\n",
       "    <tr>\n",
       "      <th>1026</th>\n",
       "      <td>504411</td>\n",
       "      <td>235616</td>\n",
       "      <td>True</td>\n",
       "      <td>Fri Dec 01 19:42:50 +0000 2017</td>\n",
       "      <td>First world problem. @delta is leaving Marine ...</td>\n",
       "      <td>504410</td>\n",
       "      <td>NaN</td>\n",
       "      <td>2017-12-01</td>\n",
       "      <td>complaint</td>\n",
       "      <td>None</td>\n",
       "      <td>Category: Flight Experience Complaints.</td>\n",
       "    </tr>\n",
       "  </tbody>\n",
       "</table>\n",
       "</div>"
      ],
      "text/plain": [
       "      tweet_id  author_id  inbound                      created_at   \n",
       "41      586419     258486     True  Sun Dec 03 15:13:56 +0000 2017  \\\n",
       "96      565474     247709     True  Sun Dec 03 00:40:34 +0000 2017   \n",
       "262     597387     183666     True  Sun Dec 03 19:51:39 +0000 2017   \n",
       "356     535349     244033     True  Sat Dec 02 12:22:39 +0000 2017   \n",
       "1026    504411     235616     True  Fri Dec 01 19:42:50 +0000 2017   \n",
       "\n",
       "                                                   text response_tweet_id   \n",
       "41    @DELTA so is policy to install navigation upgr...     586418,586420  \\\n",
       "96    This is the 2nd flight I’ve been on today @Del...            565472   \n",
       "262   @2838 why do you only have one bus on Friday n...            597385   \n",
       "356   @delta who do I submit my complaint to regardi...            535348   \n",
       "1026  First world problem. @delta is leaving Marine ...            504410   \n",
       "\n",
       "      in_response_to_tweet_id        date         category_raw category   \n",
       "41                        NaN  2017-12-03            complaint     None  \\\n",
       "96                        NaN  2017-12-03            complaint     None   \n",
       "262                       NaN  2017-12-03            complaint     None   \n",
       "356                       NaN  2017-12-02  Category: Complaint     None   \n",
       "1026                      NaN  2017-12-01            complaint     None   \n",
       "\n",
       "                                 complaint_category_raw  \n",
       "41                         Flight Experience Complaint.  \n",
       "96    Flight Experience - WiFi not working on multip...  \n",
       "262   Flight Experience - Inconvenient airport trans...  \n",
       "356                        Flight Experience Complaint.  \n",
       "1026            Category: Flight Experience Complaints.  "
      ]
     },
     "execution_count": 41,
     "metadata": {},
     "output_type": "execute_result"
    }
   ],
   "source": [
    "df_complaints.loc[df_complaints.category.isnull()]"
   ]
  },
  {
   "cell_type": "code",
   "execution_count": 42,
   "id": "6275e6eb-775f-4ee2-bab3-a305fa21ee66",
   "metadata": {},
   "outputs": [],
   "source": [
    "df_complaints.to_csv(\"./data/delta-tweets-complaint-category.csv\")"
   ]
  },
  {
   "cell_type": "markdown",
   "id": "7fa8337e-9305-4869-8075-af7b5331c58d",
   "metadata": {
    "jp-MarkdownHeadingCollapsed": true,
    "tags": []
   },
   "source": [
    "## What did this cost us?"
   ]
  },
  {
   "cell_type": "markdown",
   "id": "4612c4fb-ab4a-41bb-a882-77b4035579ff",
   "metadata": {},
   "source": [
    "As per the [pricing](https://openai.com/pricing#language-models) documentation of Open AI, the gpt-3.5-turbo api is charged at \\\\$0.001 for every 1K tokens. Below we can see that we used 206677 tokens in total, resulting in a total cost of **\\\\$0.41**. This is fairly low, but we only passed in a 1000 tweets. The cost would ramp up as we analyze more data."
   ]
  },
  {
   "cell_type": "code",
   "execution_count": 44,
   "id": "7fb8dba0-e9fd-4402-b0ae-4f4bfca05fde",
   "metadata": {},
   "outputs": [
    {
     "name": "stdout",
     "output_type": "stream",
     "text": [
      "Tokens used: 206677 | Totak cost: $0.413354\n"
     ]
    }
   ],
   "source": [
    "all_results = [result, result_complaint]\n",
    "total_tokens = sum([response.llm_output[\"token_usage\"][\"total_tokens\"] for response in all_results])\n",
    "cost = total_tokens / 1000 * 0.002\n",
    "print(f\"Tokens used: {total_tokens} | Totak cost: ${cost}\")"
   ]
  },
  {
   "cell_type": "code",
   "execution_count": null,
   "id": "e0e3c3b8-01ac-409a-b665-7581ecda59e8",
   "metadata": {},
   "outputs": [],
   "source": []
  }
 ],
 "metadata": {
  "kernelspec": {
   "display_name": "llm-playbook",
   "language": "python",
   "name": "llm-playbook"
  },
  "language_info": {
   "codemirror_mode": {
    "name": "ipython",
    "version": 3
   },
   "file_extension": ".py",
   "mimetype": "text/x-python",
   "name": "python",
   "nbconvert_exporter": "python",
   "pygments_lexer": "ipython3",
   "version": "3.9.0"
  }
 },
 "nbformat": 4,
 "nbformat_minor": 5
}