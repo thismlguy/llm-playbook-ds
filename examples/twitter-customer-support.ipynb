{
 "cells": [
  {
   "cell_type": "markdown",
   "source": [
    "# Delta Airlines Twitter Customer Support Analysis\n",
    "\n",
    "In this notebook we will be analyzing tweets from users for Delta Air Lines support reps using OpenAI GPT3.5 API. The analysis is done in 2 steps:\n",
    "\n",
    "1. Intent identification: find out why a user is writing a tweet, this could be one of 4 reasons:\n",
    "    - Raise a complaint/grievance\n",
    "    - Ask a question\n",
    "    - Share a good experience\n",
    "    - Other reasons\n",
    "\n",
    "2. Reasons for complaints: for the tweets where a complaint is being raised, we want to identify the major causes which would be one of:\n",
    "    - Flight Cancellation\n",
    "    - Flight Delays\n",
    "    - Bad Flight Experience\n",
    "    - Lost/Damaged Luggage\n",
    "    - Flight Attendant Complaints\n",
    "    - Flight Booking Problems\n",
    "    - Poor Customer Service\n",
    "    - Other"
   ],
   "metadata": {
    "collapsed": false,
    "pycharm": {
     "name": "#%% md\n"
    }
   }
  },
  {
   "cell_type": "markdown",
   "source": [
    "## Data Source\n"
   ],
   "metadata": {
    "collapsed": false,
    "pycharm": {
     "name": "#%% md\n"
    }
   }
  },
  {
   "cell_type": "markdown",
   "source": [
    "## Environment Setup\n",
    "This notebook was run using Python 3.8 with following packages installed:\n",
    "- langchain==0.0.177\n",
    "- pandas==2.0.1"
   ],
   "metadata": {
    "collapsed": false,
    "pycharm": {
     "name": "#%% md\n"
    }
   }
  },
  {
   "cell_type": "code",
   "execution_count": 56,
   "id": "542cb93c-7889-413c-b29b-2dc5d1a6d476",
   "metadata": {},
   "outputs": [],
   "source": [
    "import sys\n",
    "sys.path.append(\"../\")"
   ]
  },
  {
   "cell_type": "code",
   "execution_count": 1,
   "id": "6ba8687a-3438-468c-8288-3ab8419d8dca",
   "metadata": {},
   "outputs": [],
   "source": [
    "import pandas as pd"
   ]
  },
  {
   "cell_type": "code",
   "execution_count": 2,
   "id": "b121e05f-99eb-4564-9e76-39fd69bf2aea",
   "metadata": {},
   "outputs": [
    {
     "data": {
      "text/plain": [
       "(2811774, 7)"
      ]
     },
     "execution_count": 2,
     "metadata": {},
     "output_type": "execute_result"
    }
   ],
   "source": [
    "data_dir = \"/Users/aarshayjain/Data/generative-ai/gpt-tutorials/twitter-customer-support\"\n",
    "df = pd.read_csv(f\"{data_dir}/twcs.csv\")\n",
    "df.shape"
   ]
  },
  {
   "cell_type": "code",
   "execution_count": 3,
   "id": "6893fd59-5377-43c2-9932-d303e5a7f8b7",
   "metadata": {},
   "outputs": [
    {
     "data": {
      "text/html": [
       "<div>\n",
       "<style scoped>\n",
       "    .dataframe tbody tr th:only-of-type {\n",
       "        vertical-align: middle;\n",
       "    }\n",
       "\n",
       "    .dataframe tbody tr th {\n",
       "        vertical-align: top;\n",
       "    }\n",
       "\n",
       "    .dataframe thead th {\n",
       "        text-align: right;\n",
       "    }\n",
       "</style>\n",
       "<table border=\"1\" class=\"dataframe\">\n",
       "  <thead>\n",
       "    <tr style=\"text-align: right;\">\n",
       "      <th></th>\n",
       "      <th>tweet_id</th>\n",
       "      <th>author_id</th>\n",
       "      <th>inbound</th>\n",
       "      <th>created_at</th>\n",
       "      <th>text</th>\n",
       "      <th>response_tweet_id</th>\n",
       "      <th>in_response_to_tweet_id</th>\n",
       "    </tr>\n",
       "  </thead>\n",
       "  <tbody>\n",
       "    <tr>\n",
       "      <th>0</th>\n",
       "      <td>1</td>\n",
       "      <td>sprintcare</td>\n",
       "      <td>False</td>\n",
       "      <td>Tue Oct 31 22:10:47 +0000 2017</td>\n",
       "      <td>@115712 I understand. I would like to assist y...</td>\n",
       "      <td>2</td>\n",
       "      <td>3.0</td>\n",
       "    </tr>\n",
       "    <tr>\n",
       "      <th>1</th>\n",
       "      <td>2</td>\n",
       "      <td>115712</td>\n",
       "      <td>True</td>\n",
       "      <td>Tue Oct 31 22:11:45 +0000 2017</td>\n",
       "      <td>@sprintcare and how do you propose we do that</td>\n",
       "      <td>NaN</td>\n",
       "      <td>1.0</td>\n",
       "    </tr>\n",
       "  </tbody>\n",
       "</table>\n",
       "</div>"
      ],
      "text/plain": [
       "   tweet_id   author_id  inbound                      created_at  \\\n",
       "0         1  sprintcare    False  Tue Oct 31 22:10:47 +0000 2017   \n",
       "1         2      115712     True  Tue Oct 31 22:11:45 +0000 2017   \n",
       "\n",
       "                                                text response_tweet_id  \\\n",
       "0  @115712 I understand. I would like to assist y...                 2   \n",
       "1      @sprintcare and how do you propose we do that               NaN   \n",
       "\n",
       "   in_response_to_tweet_id  \n",
       "0                      3.0  \n",
       "1                      1.0  "
      ]
     },
     "execution_count": 3,
     "metadata": {},
     "output_type": "execute_result"
    }
   ],
   "source": [
    "df.head(2)"
   ]
  },
  {
   "cell_type": "code",
   "execution_count": 12,
   "id": "bc8183d6-7bdd-4d5a-9f1c-34331fc63976",
   "metadata": {},
   "outputs": [],
   "source": [
    "df.author_id.value_counts().to_csv(f\"{data_dir}/author-stats.csv\")"
   ]
  },
  {
   "cell_type": "code",
   "execution_count": 19,
   "id": "e9fd9ec3-5833-4480-9111-54bbddd5b8aa",
   "metadata": {},
   "outputs": [
    {
     "data": {
      "text/plain": [
       "36271"
      ]
     },
     "execution_count": 19,
     "metadata": {},
     "output_type": "execute_result"
    }
   ],
   "source": [
    "delta_responded_tweets = set(df.loc[df.author_id == \"Delta\"].in_response_to_tweet_id)\n",
    "len(delta_responded_tweets)"
   ]
  },
  {
   "cell_type": "code",
   "execution_count": 23,
   "id": "881cb81e-4921-44e8-bceb-4b0769754ed4",
   "metadata": {},
   "outputs": [
    {
     "data": {
      "text/plain": [
       "(24603, 7)"
      ]
     },
     "execution_count": 23,
     "metadata": {},
     "output_type": "execute_result"
    }
   ],
   "source": [
    "delta_inbounds = df.loc[df.tweet_id.isin(delta_responded_tweets)].loc[lambda x: x.inbound].loc[lambda x: x.in_response_to_tweet_id.isnull()]\n",
    "delta_inbounds.shape"
   ]
  },
  {
   "cell_type": "code",
   "execution_count": 27,
   "id": "44fd9fac-f519-4872-a341-8e6ab5b78bf9",
   "metadata": {},
   "outputs": [
    {
     "data": {
      "text/html": [
       "<div>\n",
       "<style scoped>\n",
       "    .dataframe tbody tr th:only-of-type {\n",
       "        vertical-align: middle;\n",
       "    }\n",
       "\n",
       "    .dataframe tbody tr th {\n",
       "        vertical-align: top;\n",
       "    }\n",
       "\n",
       "    .dataframe thead th {\n",
       "        text-align: right;\n",
       "    }\n",
       "</style>\n",
       "<table border=\"1\" class=\"dataframe\">\n",
       "  <thead>\n",
       "    <tr style=\"text-align: right;\">\n",
       "      <th></th>\n",
       "      <th>tweet_id</th>\n",
       "      <th>author_id</th>\n",
       "      <th>inbound</th>\n",
       "      <th>created_at</th>\n",
       "      <th>text</th>\n",
       "      <th>response_tweet_id</th>\n",
       "      <th>in_response_to_tweet_id</th>\n",
       "    </tr>\n",
       "  </thead>\n",
       "  <tbody>\n",
       "    <tr>\n",
       "      <th>317</th>\n",
       "      <td>611</td>\n",
       "      <td>115818</td>\n",
       "      <td>True</td>\n",
       "      <td>Sat Aug 06 01:31:50 +0000 2016</td>\n",
       "      <td>@DELTA i booked my flight using delta amex car...</td>\n",
       "      <td>609</td>\n",
       "      <td>NaN</td>\n",
       "    </tr>\n",
       "    <tr>\n",
       "      <th>487</th>\n",
       "      <td>792</td>\n",
       "      <td>115882</td>\n",
       "      <td>True</td>\n",
       "      <td>Tue Oct 31 21:33:48 +0000 2017</td>\n",
       "      <td>@Delta why wasn't earlier flight offered when ...</td>\n",
       "      <td>790</td>\n",
       "      <td>NaN</td>\n",
       "    </tr>\n",
       "    <tr>\n",
       "      <th>494</th>\n",
       "      <td>801</td>\n",
       "      <td>115883</td>\n",
       "      <td>True</td>\n",
       "      <td>Sun Oct 29 15:59:35 +0000 2017</td>\n",
       "      <td>@Delta The \"change flight\" search option on yo...</td>\n",
       "      <td>799</td>\n",
       "      <td>NaN</td>\n",
       "    </tr>\n",
       "    <tr>\n",
       "      <th>496</th>\n",
       "      <td>803</td>\n",
       "      <td>115884</td>\n",
       "      <td>True</td>\n",
       "      <td>Tue Oct 31 21:33:27 +0000 2017</td>\n",
       "      <td>.@delta this has been my inflight studio exper...</td>\n",
       "      <td>802</td>\n",
       "      <td>NaN</td>\n",
       "    </tr>\n",
       "    <tr>\n",
       "      <th>505</th>\n",
       "      <td>814</td>\n",
       "      <td>115885</td>\n",
       "      <td>True</td>\n",
       "      <td>Tue Oct 31 16:37:26 +0000 2017</td>\n",
       "      <td>@Delta I'm flying JFK-MEX-MID tomorrow and you...</td>\n",
       "      <td>813</td>\n",
       "      <td>NaN</td>\n",
       "    </tr>\n",
       "  </tbody>\n",
       "</table>\n",
       "</div>"
      ],
      "text/plain": [
       "     tweet_id author_id  inbound                      created_at  \\\n",
       "317       611    115818     True  Sat Aug 06 01:31:50 +0000 2016   \n",
       "487       792    115882     True  Tue Oct 31 21:33:48 +0000 2017   \n",
       "494       801    115883     True  Sun Oct 29 15:59:35 +0000 2017   \n",
       "496       803    115884     True  Tue Oct 31 21:33:27 +0000 2017   \n",
       "505       814    115885     True  Tue Oct 31 16:37:26 +0000 2017   \n",
       "\n",
       "                                                  text response_tweet_id  \\\n",
       "317  @DELTA i booked my flight using delta amex car...               609   \n",
       "487  @Delta why wasn't earlier flight offered when ...               790   \n",
       "494  @Delta The \"change flight\" search option on yo...               799   \n",
       "496  .@delta this has been my inflight studio exper...               802   \n",
       "505  @Delta I'm flying JFK-MEX-MID tomorrow and you...               813   \n",
       "\n",
       "     in_response_to_tweet_id  \n",
       "317                      NaN  \n",
       "487                      NaN  \n",
       "494                      NaN  \n",
       "496                      NaN  \n",
       "505                      NaN  "
      ]
     },
     "execution_count": 27,
     "metadata": {},
     "output_type": "execute_result"
    }
   ],
   "source": [
    "delta_inbounds.head(5)"
   ]
  },
  {
   "cell_type": "code",
   "execution_count": 30,
   "id": "2ba5dc9c-c51c-4872-96d5-2f7738cde77a",
   "metadata": {},
   "outputs": [],
   "source": [
    "delta_inbounds[\"date\"] = pd.to_datetime(delta_inbounds.created_at).apply(lambda x: x.date)"
   ]
  },
  {
   "cell_type": "code",
   "execution_count": 31,
   "id": "b81b192e-ae25-443d-9a4a-9cbeeaaf0078",
   "metadata": {},
   "outputs": [],
   "source": [
    "delta_inbounds.to_csv(f\"{data_dir}/delta-inbounds.csv\")"
   ]
  },
  {
   "cell_type": "code",
   "execution_count": 32,
   "id": "26124ade-a5f2-4da1-98af-6168f3a83d21",
   "metadata": {},
   "outputs": [],
   "source": [
    "delta_inbounds.sort_values(by=\"date\", ascending=False, inplace=True)"
   ]
  },
  {
   "cell_type": "code",
   "execution_count": 39,
   "id": "b22cc465-2c53-4694-aef1-18f5e27560ec",
   "metadata": {},
   "outputs": [
    {
     "data": {
      "text/plain": [
       "2017-12-03    290\n",
       "2017-12-02    324\n",
       "2017-12-01    452\n",
       "2017-11-30    391\n",
       "2017-11-29    400\n",
       "2017-11-28    424\n",
       "2017-11-27    541\n",
       "2017-11-26    403\n",
       "2017-11-25    335\n",
       "2017-11-24    302\n",
       "2017-11-23    351\n",
       "2017-11-22    466\n",
       "2017-11-21    395\n",
       "2017-11-20    365\n",
       "2017-11-19    346\n",
       "2017-11-18     17\n",
       "2017-11-17    485\n",
       "2017-11-16    469\n",
       "2017-11-15    394\n",
       "2017-11-14    445\n",
       "Name: date, dtype: int64"
      ]
     },
     "execution_count": 39,
     "metadata": {},
     "output_type": "execute_result"
    }
   ],
   "source": [
    "delta_inbounds.date.value_counts().sort_index(ascending=False).head(20)"
   ]
  },
  {
   "cell_type": "code",
   "execution_count": 41,
   "id": "4eb79eef-94be-432b-adf5-c6231e98f37c",
   "metadata": {},
   "outputs": [
    {
     "data": {
      "text/plain": [
       "['@Delta flight attendants on flight 5913 from BNA to BOS were 👌. Please do something for them - will be flying Delta again because of them.',\n",
       " '@Delta Checking for baggage allowance on https://t.co/xGKZ90duCF could not find the countries NIGER and/or NIGERIA. Help?',\n",
       " '@Delta can i use my sky miles to book a ticket for my daughter',\n",
       " 'In the back of the plane and @Delta must have run out of their yummy cookies! 😭 #ThingsNotToDoToAPregnantLady 💔',\n",
       " 'Hightailing out of this country to celebrate my birthday #woohoo @Delta https://t.co/IUB77dA3C9']"
      ]
     },
     "execution_count": 41,
     "metadata": {},
     "output_type": "execute_result"
    }
   ],
   "source": [
    "list(delta_inbounds.text.sample(5))"
   ]
  },
  {
   "cell_type": "code",
   "execution_count": 93,
   "id": "347b0d46-7add-4055-bde1-b4a561cdec91",
   "metadata": {},
   "outputs": [
    {
     "data": {
      "text/plain": [
       "(100, 8)"
      ]
     },
     "execution_count": 93,
     "metadata": {},
     "output_type": "execute_result"
    }
   ],
   "source": [
    "df_delta_tweets = delta_inbounds[:100]\n",
    "df_delta_tweets.shape"
   ]
  },
  {
   "cell_type": "markdown",
   "id": "463ee0de-0695-46d6-b31f-d5ddf4040f0d",
   "metadata": {},
   "source": [
    "## Langchain access\n",
    "\n",
    "[API reference](https://platform.openai.com/docs/guides/chat/introduction)"
   ]
  },
  {
   "cell_type": "code",
   "execution_count": 94,
   "id": "e06b82bc-63dc-4ceb-804f-12149fb76883",
   "metadata": {},
   "outputs": [],
   "source": [
    "from langchain.chat_models import ChatOpenAI\n",
    "from langchain.prompts.chat import SystemMessagePromptTemplate, HumanMessagePromptTemplate, ChatPromptTemplate"
   ]
  },
  {
   "cell_type": "code",
   "execution_count": 95,
   "id": "e0d926a4-a338-4e3e-ace7-8eabc19e4faf",
   "metadata": {},
   "outputs": [],
   "source": [
    "category_prompt_template = \"\"\"\n",
    "you are a customer support agent for one of the largest airlines in the USA who is responding to tweets from users. given a tweet, you are supposed to classify it into one of the following categories:\n",
    "\n",
    "- complaint\n",
    "- question\n",
    "- compliment\n",
    "- others\n",
    "\n",
    "classify the following tweet:\n",
    "\n",
    "{tweet}\n",
    "\"\"\""
   ]
  },
  {
   "cell_type": "code",
   "execution_count": 96,
   "id": "4b8e110e-2d72-45ba-95ad-5323cf03fa33",
   "metadata": {},
   "outputs": [],
   "source": [
    "system_message_prompt = SystemMessagePromptTemplate.from_template(\"\")\n",
    "user_message_prompt = HumanMessagePromptTemplate.from_template(category_prompt_template)\n",
    "chat_prompt = ChatPromptTemplate.from_messages([\n",
    "    system_message_prompt,\n",
    "    user_message_prompt])"
   ]
  },
  {
   "cell_type": "code",
   "execution_count": 97,
   "id": "f26f265b-7660-4ab5-aa39-2c35144aa365",
   "metadata": {},
   "outputs": [],
   "source": [
    "from src.utils.general import load_env_vars_from_files\n",
    "load_env_vars_from_files([\"openai-creds.sh\"])"
   ]
  },
  {
   "cell_type": "code",
   "execution_count": 98,
   "id": "9bc4f148-3121-42de-8ccf-13d9dac26e3a",
   "metadata": {},
   "outputs": [],
   "source": [
    "chat = ChatOpenAI(temperature=0)"
   ]
  },
  {
   "cell_type": "code",
   "execution_count": 99,
   "id": "4270c8f0-91ed-4437-ac7b-a65fb18bddb3",
   "metadata": {},
   "outputs": [
    {
     "name": "stdout",
     "output_type": "stream",
     "text": [
      "@Delta I do really appreciate the app notifications when bags have been loaded on the plane. Nice to have one less thing to worry about ;)\n"
     ]
    }
   ],
   "source": [
    "tweet = delta_inbounds.text.iloc[0]\n",
    "print(tweet)"
   ]
  },
  {
   "cell_type": "code",
   "execution_count": 100,
   "id": "d0193614-8639-49de-b189-56cdba0e60c3",
   "metadata": {},
   "outputs": [],
   "source": [
    "ai_response = chat(chat_prompt.format_prompt(tweet=tweet).to_messages())"
   ]
  },
  {
   "cell_type": "code",
   "execution_count": 101,
   "id": "4105060b-c0b8-4028-93f7-96771c83743c",
   "metadata": {},
   "outputs": [
    {
     "data": {
      "text/plain": [
       "'compliment'"
      ]
     },
     "execution_count": 101,
     "metadata": {},
     "output_type": "execute_result"
    }
   ],
   "source": [
    "ai_response.content"
   ]
  },
  {
   "cell_type": "markdown",
   "id": "862993d9-22ff-4cfc-9d33-342224b48fea",
   "metadata": {},
   "source": [
    "## get all responses"
   ]
  },
  {
   "cell_type": "code",
   "execution_count": 102,
   "id": "3d8e094a-548b-4840-b7bf-c0f11a897b63",
   "metadata": {},
   "outputs": [
    {
     "data": {
      "text/plain": [
       "100"
      ]
     },
     "execution_count": 102,
     "metadata": {},
     "output_type": "execute_result"
    }
   ],
   "source": [
    "batch_messages = [chat_prompt.format_prompt(tweet=tweet).to_messages()\n",
    "                  for tweet in df_delta_tweets.text]\n",
    "len(batch_messages)"
   ]
  },
  {
   "cell_type": "code",
   "execution_count": 103,
   "id": "b3bdc081-ff72-4b4b-84fe-20205222e1ae",
   "metadata": {},
   "outputs": [
    {
     "name": "stderr",
     "output_type": "stream",
     "text": [
      "Retrying langchain.chat_models.openai.ChatOpenAI.completion_with_retry.<locals>._completion_with_retry in 1.0 seconds as it raised RateLimitError: That model is currently overloaded with other requests. You can retry your request, or contact us through our help center at help.openai.com if the error persists. (Please include the request ID abd535b20adfbb70f0f34cde2b65c859 in your message.).\n",
      "Retrying langchain.chat_models.openai.ChatOpenAI.completion_with_retry.<locals>._completion_with_retry in 1.0 seconds as it raised RateLimitError: That model is currently overloaded with other requests. You can retry your request, or contact us through our help center at help.openai.com if the error persists. (Please include the request ID efef213cb87b1955b1329b204292b66f in your message.).\n",
      "Retrying langchain.chat_models.openai.ChatOpenAI.completion_with_retry.<locals>._completion_with_retry in 1.0 seconds as it raised RateLimitError: That model is currently overloaded with other requests. You can retry your request, or contact us through our help center at help.openai.com if the error persists. (Please include the request ID d0c00c0de83e508c144d316958eaea38 in your message.).\n"
     ]
    }
   ],
   "source": [
    "result = chat.generate(batch_messages)"
   ]
  },
  {
   "cell_type": "code",
   "execution_count": 106,
   "id": "e2e7bfee-6ed4-41a7-b879-abbce526ca33",
   "metadata": {},
   "outputs": [
    {
     "data": {
      "text/plain": [
       "100"
      ]
     },
     "execution_count": 106,
     "metadata": {},
     "output_type": "execute_result"
    }
   ],
   "source": [
    "len(result.generations)"
   ]
  },
  {
   "cell_type": "code",
   "execution_count": 167,
   "id": "e8f5866f-75c5-43b4-ab74-4c6c675ce4c2",
   "metadata": {},
   "outputs": [
    {
     "data": {
      "text/plain": [
       "{'token_usage': {'prompt_tokens': 10849,\n",
       "  'completion_tokens': 271,\n",
       "  'total_tokens': 11120},\n",
       " 'model_name': 'gpt-3.5-turbo'}"
      ]
     },
     "execution_count": 167,
     "metadata": {},
     "output_type": "execute_result"
    }
   ],
   "source": [
    "result.llm_output"
   ]
  },
  {
   "cell_type": "code",
   "execution_count": 109,
   "id": "0684d92a-c3bb-4676-adac-79932a8fcdb0",
   "metadata": {},
   "outputs": [
    {
     "name": "stderr",
     "output_type": "stream",
     "text": [
      "/var/folders/rj/4_r942cx5xv13l6l57n5wz3m0000gn/T/ipykernel_37368/1917012277.py:1: SettingWithCopyWarning: \n",
      "A value is trying to be set on a copy of a slice from a DataFrame.\n",
      "Try using .loc[row_indexer,col_indexer] = value instead\n",
      "\n",
      "See the caveats in the documentation: https://pandas.pydata.org/pandas-docs/stable/user_guide/indexing.html#returning-a-view-versus-a-copy\n",
      "  df_delta_tweets[\"category_raw\"] = [x[0].text for x in result.generations]\n"
     ]
    }
   ],
   "source": [
    "df_delta_tweets[\"category_raw\"] = [x[0].text for x in result.generations]"
   ]
  },
  {
   "cell_type": "code",
   "execution_count": 110,
   "id": "cd00745c-da03-4ed6-acc4-e176dfbddc7c",
   "metadata": {},
   "outputs": [
    {
     "data": {
      "text/plain": [
       "compliment                    30\n",
       "complaint                     30\n",
       "Category: Question             9\n",
       "Category: Complaint            8\n",
       "Category: Question.            8\n",
       "Category: Complaint.           5\n",
       "question                       4\n",
       "others                         2\n",
       "Category: Others               2\n",
       "Question                       1\n",
       "category: suggestion/other     1\n",
       "Name: category_raw, dtype: int64"
      ]
     },
     "execution_count": 110,
     "metadata": {},
     "output_type": "execute_result"
    }
   ],
   "source": [
    "df_delta_tweets.category_raw.value_counts()"
   ]
  },
  {
   "cell_type": "code",
   "execution_count": 111,
   "id": "3bed0941-0d7c-43b5-ab90-c2c7e939aa69",
   "metadata": {},
   "outputs": [],
   "source": [
    "import re"
   ]
  },
  {
   "cell_type": "code",
   "execution_count": 143,
   "id": "140d5c86-2455-40fe-801a-d472ddc50803",
   "metadata": {},
   "outputs": [],
   "source": [
    "def extract_category(raw):\n",
    "    pattern = re.compile(\"compliment|complaint|question|other\")\n",
    "    match = pattern.search(raw.lower())\n",
    "    if match is None:\n",
    "        return None\n",
    "    return match.group()"
   ]
  },
  {
   "cell_type": "code",
   "execution_count": 144,
   "id": "d3f12333-f988-44ae-a86f-650bf1720abb",
   "metadata": {},
   "outputs": [
    {
     "name": "stderr",
     "output_type": "stream",
     "text": [
      "/var/folders/rj/4_r942cx5xv13l6l57n5wz3m0000gn/T/ipykernel_37368/2901508938.py:1: SettingWithCopyWarning: \n",
      "A value is trying to be set on a copy of a slice from a DataFrame.\n",
      "Try using .loc[row_indexer,col_indexer] = value instead\n",
      "\n",
      "See the caveats in the documentation: https://pandas.pydata.org/pandas-docs/stable/user_guide/indexing.html#returning-a-view-versus-a-copy\n",
      "  df_delta_tweets[\"category\"] = df_delta_tweets.category_raw.apply(extract_category)\n"
     ]
    }
   ],
   "source": [
    "df_delta_tweets[\"category\"] = df_delta_tweets.category_raw.apply(extract_category)"
   ]
  },
  {
   "cell_type": "code",
   "execution_count": 147,
   "id": "70f0e0c4-10d8-45d1-a1bd-fd4ee4102c43",
   "metadata": {},
   "outputs": [
    {
     "data": {
      "text/plain": [
       "complaint     43\n",
       "compliment    30\n",
       "question      22\n",
       "other          5\n",
       "Name: category, dtype: int64"
      ]
     },
     "execution_count": 147,
     "metadata": {},
     "output_type": "execute_result"
    }
   ],
   "source": [
    "df_delta_tweets.category.value_counts()"
   ]
  },
  {
   "cell_type": "code",
   "execution_count": 154,
   "id": "96c5067e-0c38-4017-b539-1fd61dd19fac",
   "metadata": {},
   "outputs": [],
   "source": [
    "def sample_category(category, n):\n",
    "    print(\"\\n\\n\".join(list(df_delta_tweets.loc[df_delta_tweets.category == category].text.sample(n))))"
   ]
  },
  {
   "cell_type": "code",
   "execution_count": 161,
   "id": "49ff5abb-ea2f-4540-b651-ec947d92f578",
   "metadata": {},
   "outputs": [
    {
     "name": "stdout",
     "output_type": "stream",
     "text": [
      "#BloddyMary Time!It Is Sunday &amp; I'm Not Flying The @Delta https://t.co/evyt8hkqP2! https://t.co/bueOliSTmt\n",
      "\n",
      "@Delta in a couple hours....2 million!! https://t.co/6AQQC1QI5z\n",
      "\n",
      "And away we go!  #la #theviewfrommylaptop #adventuresinsales #silverjeansco @delta @ New York,… https://t.co/u3BUV3x9Ww\n",
      "\n",
      "Another @Delta sunrise in #LAS #headinghome https://t.co/MlvaF8d9qC\n",
      "\n",
      "@Delta how about serving soft pretzels in your Pennsylvania clubs instead of bagels? Treat us to this local delicacy. Please. https://t.co/PLVdB6oXbH\n"
     ]
    }
   ],
   "source": [
    "sample_category(\"other\", 5)"
   ]
  },
  {
   "cell_type": "markdown",
   "id": "f1ecaf39-f6ef-434c-955e-a4ade392e457",
   "metadata": {
    "tags": []
   },
   "source": [
    "# exploring reasons for complaints\n",
    "\n",
    "This is a good first start, but for an actual appication perspective we need to see where exactly we're going wrong. Let's try to classify the negative reviews further into some categories:\n",
    "\n",
    "- Bad Flight Experience\n",
    "- Flight Cancellation\n",
    "- Flight Delays\n",
    "- Poor Customer Service\n",
    "- Damaged Luggage\n",
    "- Flight Attendant Complaints\n",
    "- Flight Booking Problems\n",
    "- Lost Luggage\n",
    "- Other"
   ]
  },
  {
   "cell_type": "code",
   "execution_count": 162,
   "id": "2622c7a6-1dee-4691-812c-640e7a037ff1",
   "metadata": {},
   "outputs": [],
   "source": [
    "neg_category_prompt_template = \"\"\"\n",
    "you are a customer support agent for one of the largest airlines in the USA who is responding to tweets from users. \n",
    "given a tweet where a customer is complaining, you are supposed to identify the reason for the complaint and classify it into one of the following categories:\n",
    "\n",
    "- Flight Cancellation\n",
    "- Flight Delays\n",
    "- Bad Flight Experience\n",
    "- Lost/Damaged Luggage\n",
    "- Flight Attendant Complaints\n",
    "- Flight Booking Problems\n",
    "- Poor Customer Service\n",
    "- Other\n",
    "\n",
    "classify the following tweet:\n",
    "\n",
    "{tweet}\n",
    "\"\"\""
   ]
  },
  {
   "cell_type": "code",
   "execution_count": 164,
   "id": "58daaf57-5f2e-42f6-8a91-71baa6fe8538",
   "metadata": {},
   "outputs": [],
   "source": [
    "system_message_prompt = SystemMessagePromptTemplate.from_template(\"\")\n",
    "user_message_prompt_complaint = HumanMessagePromptTemplate.from_template(neg_category_prompt_template)\n",
    "chat_prompt_complaint = ChatPromptTemplate.from_messages([\n",
    "    system_message_prompt,\n",
    "    user_message_prompt_complaint])"
   ]
  },
  {
   "cell_type": "code",
   "execution_count": 166,
   "id": "21fb907f-d1a3-48c7-ad38-dce8da7a9411",
   "metadata": {},
   "outputs": [
    {
     "data": {
      "text/plain": [
       "(43, 10)"
      ]
     },
     "execution_count": 166,
     "metadata": {},
     "output_type": "execute_result"
    }
   ],
   "source": [
    "df_complaints = df_delta_tweets.loc[df_delta_tweets.category == \"complaint\"]\n",
    "df_complaints.shape"
   ]
  },
  {
   "cell_type": "code",
   "execution_count": 170,
   "id": "79695763-2d5e-4c82-a6ce-83e17e6bd7e4",
   "metadata": {},
   "outputs": [
    {
     "data": {
      "text/plain": [
       "43"
      ]
     },
     "execution_count": 170,
     "metadata": {},
     "output_type": "execute_result"
    }
   ],
   "source": [
    "batch_messages = [chat_prompt_complaint.format_prompt(tweet=tweet).to_messages()\n",
    "                  for tweet in df_complaints.text]\n",
    "result_complaint = chat.generate(batch_messages)\n",
    "len(result_complaint.generations)"
   ]
  },
  {
   "cell_type": "code",
   "execution_count": 173,
   "id": "0285f196-b0fb-48f0-bf1d-355db0770e55",
   "metadata": {},
   "outputs": [
    {
     "name": "stderr",
     "output_type": "stream",
     "text": [
      "/var/folders/rj/4_r942cx5xv13l6l57n5wz3m0000gn/T/ipykernel_37368/1929043883.py:1: SettingWithCopyWarning: \n",
      "A value is trying to be set on a copy of a slice from a DataFrame.\n",
      "Try using .loc[row_indexer,col_indexer] = value instead\n",
      "\n",
      "See the caveats in the documentation: https://pandas.pydata.org/pandas-docs/stable/user_guide/indexing.html#returning-a-view-versus-a-copy\n",
      "  df_complaints[\"complaint_category\"] = [x[0].text for x in result_complaint.generations]\n"
     ]
    }
   ],
   "source": [
    "df_complaints[\"complaint_category\"] = [x[0].text for x in result_complaint.generations]"
   ]
  },
  {
   "cell_type": "code",
   "execution_count": 175,
   "id": "3e639afe-16a8-451d-9a10-65b3952b4208",
   "metadata": {},
   "outputs": [
    {
     "data": {
      "text/plain": [
       "Category: Flight Booking Problems                                                                                                                                                                                                                                 6\n",
       "Category: Poor Customer Service.                                                                                                                                                                                                                                  5\n",
       "Category: Flight Delays                                                                                                                                                                                                                                           4\n",
       "Category: Poor Customer Service                                                                                                                                                                                                                                   4\n",
       "Category: Flight Booking Problems.                                                                                                                                                                                                                                3\n",
       "Category: Bad Flight Experience.                                                                                                                                                                                                                                  3\n",
       "Category: Bad Flight Experience                                                                                                                                                                                                                                   2\n",
       "Category: Flight Delays.                                                                                                                                                                                                                                          2\n",
       "Category: Other (The tweet does not provide any specific reason for the complaint)                                                                                                                                                                                2\n",
       "Lost/Damaged Luggage                                                                                                                                                                                                                                              1\n",
       "Lost/Damaged Luggage.                                                                                                                                                                                                                                             1\n",
       "Category: Other. \\n\\nThe customer is not complaining about any of the categories listed. They are simply asking for a refund for a food item that did not meet their expectations.                                                                                1\n",
       "Category: Flight Cancellation.                                                                                                                                                                                                                                    1\n",
       "Category: Poor Customer Service and Flight Booking Problems.                                                                                                                                                                                                      1\n",
       "Category: Other                                                                                                                                                                                                                                                   1\n",
       "Category: Other. \\n\\nThe customer is not necessarily complaining about any of the categories listed. They are expressing frustration about being charged $100 for an overweight bag, despite receiving a discount on their fare and being given a window seat.    1\n",
       "Category: Flight Cancellation                                                                                                                                                                                                                                     1\n",
       "Category: Other. \\n\\nThe customer is not complaining about any of the specific categories listed. Instead, they are suggesting that Delta should include active service men and women for priority boarding as a way to honor them.                               1\n",
       "Category: Lost/Damaged Luggage.                                                                                                                                                                                                                                   1\n",
       "Category: Flight Attendant Complaints.                                                                                                                                                                                                                            1\n",
       "Category: Flight Attendant Complaints                                                                                                                                                                                                                             1\n",
       "Name: complaint_category, dtype: int64"
      ]
     },
     "execution_count": 175,
     "metadata": {},
     "output_type": "execute_result"
    }
   ],
   "source": [
    "df_complaints.complaint_category.value_counts()"
   ]
  },
  {
   "cell_type": "code",
   "execution_count": null,
   "id": "854872b8-c253-4ff8-8732-f8d48cd54507",
   "metadata": {},
   "outputs": [],
   "source": []
  }
 ],
 "metadata": {
  "kernelspec": {
   "display_name": "open-ai",
   "language": "python",
   "name": "open-ai"
  },
  "language_info": {
   "codemirror_mode": {
    "name": "ipython",
    "version": 3
   },
   "file_extension": ".py",
   "mimetype": "text/x-python",
   "name": "python",
   "nbconvert_exporter": "python",
   "pygments_lexer": "ipython3",
   "version": "3.10.4"
  }
 },
 "nbformat": 4,
 "nbformat_minor": 5
}