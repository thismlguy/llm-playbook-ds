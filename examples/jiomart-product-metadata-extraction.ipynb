{
 "cells": [
  {
   "cell_type": "markdown",
   "id": "a699c8ee",
   "metadata": {
    "pycharm": {
     "name": "#%% md\n"
    },
    "tags": []
   },
   "source": [
    "# JioMart product metadata extraction\n",
    "\n",
    "In this notebook we will be analyzing tweets from users for Delta Air Lines support reps using OpenAI GPT3.5 API. The analysis is done in 2 steps:\n",
    "\n",
    "1. Intent identification: find out why a user is writing a tweet, this could be one of 4 reasons:\n",
    "    - Raise a complaint/grievance\n",
    "    - Ask a question\n",
    "    - Share a good experience\n",
    "    - Other reasons\n",
    "\n",
    "2. Reasons for complaints: for the tweets where a complaint is being raised, we want to identify the major causes which would be one of:\n",
    "    - Flight Cancellation\n",
    "    - Flight Delays\n",
    "    - Bad Flight Experience\n",
    "    - Lost/Damaged Luggage\n",
    "    - Flight Attendant Complaints\n",
    "    - Flight Booking Problems\n",
    "    - Poor Customer Service\n",
    "    - Other"
   ]
  },
  {
   "cell_type": "markdown",
   "id": "e9057b31",
   "metadata": {
    "pycharm": {
     "name": "#%% md\n"
    }
   },
   "source": [
    "### Data Source"
   ]
  },
  {
   "cell_type": "markdown",
   "id": "edfa240f",
   "metadata": {
    "pycharm": {
     "name": "#%% md\n"
    },
    "tags": []
   },
   "source": [
    "### Environment Setup\n",
    "This notebook was run using Python 3.8 with following packages installed:\n",
    "- langchain==0.0.177\n",
    "- pandas==2.0.1\n",
    "- opendatasets==0.1.22"
   ]
  },
  {
   "cell_type": "markdown",
   "id": "3570b4d4-199f-4b97-80b7-9d1d22cbbb70",
   "metadata": {
    "tags": []
   },
   "source": [
    "## Load data"
   ]
  },
  {
   "cell_type": "code",
   "execution_count": 1,
   "id": "c7cb92cc-ded7-437c-89a7-095006e640fc",
   "metadata": {},
   "outputs": [],
   "source": [
    "import opendatasets as od\n",
    "from tempfile import mkdtemp\n",
    "import pandas as pd"
   ]
  },
  {
   "cell_type": "code",
   "execution_count": 2,
   "id": "fc8ea743-64e8-49f4-8dc7-1ce028c557e3",
   "metadata": {},
   "outputs": [
    {
     "name": "stdout",
     "output_type": "stream",
     "text": [
      "Please provide your Kaggle credentials to download this dataset. Learn more: http://bit.ly/kaggle-creds\n",
      "Your Kaggle username:"
     ]
    },
    {
     "name": "stdin",
     "output_type": "stream",
     "text": [
      "  aarshayjain\n"
     ]
    },
    {
     "name": "stdout",
     "output_type": "stream",
     "text": [
      "Your Kaggle Key:"
     ]
    },
    {
     "name": "stdin",
     "output_type": "stream",
     "text": [
      "  ········\n"
     ]
    },
    {
     "name": "stdout",
     "output_type": "stream",
     "text": [
      "Downloading jio-mart-product-items.zip to /var/folders/rj/4_r942cx5xv13l6l57n5wz3m0000gn/T/tmp1s9w6lpe/jio-mart-product-items\n"
     ]
    },
    {
     "name": "stderr",
     "output_type": "stream",
     "text": [
      "100%|████████████████████████████████████████████████████████████████████████████████████████████████████████████████████████████████████████████████████████████| 2.31M/2.31M [00:00<00:00, 30.3MB/s]"
     ]
    },
    {
     "name": "stdout",
     "output_type": "stream",
     "text": [
      "\n"
     ]
    },
    {
     "name": "stderr",
     "output_type": "stream",
     "text": [
      "\n"
     ]
    }
   ],
   "source": [
    "data_dir = mkdtemp()\n",
    "od.download(\"https://www.kaggle.com/datasets/mohit2512/jio-mart-product-items\", \n",
    "            data_dir=data_dir)"
   ]
  },
  {
   "cell_type": "code",
   "execution_count": 3,
   "id": "347b0d46-7add-4055-bde1-b4a561cdec91",
   "metadata": {},
   "outputs": [
    {
     "data": {
      "text/plain": [
       "(162313, 5)"
      ]
     },
     "execution_count": 3,
     "metadata": {},
     "output_type": "execute_result"
    }
   ],
   "source": [
    "df = pd.read_csv(f\"{data_dir}/jio-mart-product-items/jio_mart_items.csv\")\n",
    "# drop href column\n",
    "df.drop(columns=\"href\", inplace=True)\n",
    "# add ID column\n",
    "df = df.reset_index(names=[\"id\"])\n",
    "df.shape"
   ]
  },
  {
   "cell_type": "code",
   "execution_count": 4,
   "id": "d556953b-ba26-431d-9002-2e88ce020887",
   "metadata": {},
   "outputs": [
    {
     "data": {
      "text/html": [
       "<div>\n",
       "<style scoped>\n",
       "    .dataframe tbody tr th:only-of-type {\n",
       "        vertical-align: middle;\n",
       "    }\n",
       "\n",
       "    .dataframe tbody tr th {\n",
       "        vertical-align: top;\n",
       "    }\n",
       "\n",
       "    .dataframe thead th {\n",
       "        text-align: right;\n",
       "    }\n",
       "</style>\n",
       "<table border=\"1\" class=\"dataframe\">\n",
       "  <thead>\n",
       "    <tr style=\"text-align: right;\">\n",
       "      <th></th>\n",
       "      <th>id</th>\n",
       "      <th>category</th>\n",
       "      <th>sub_category</th>\n",
       "      <th>items</th>\n",
       "      <th>price</th>\n",
       "    </tr>\n",
       "  </thead>\n",
       "  <tbody>\n",
       "    <tr>\n",
       "      <th>100140</th>\n",
       "      <td>100140</td>\n",
       "      <td>Home &amp; Kitchen</td>\n",
       "      <td>Garden &amp; Outdoor</td>\n",
       "      <td>Kraft Seeds Rajnigandha Tuberose Flower Bulbs ...</td>\n",
       "      <td>75000.0</td>\n",
       "    </tr>\n",
       "    <tr>\n",
       "      <th>20689</th>\n",
       "      <td>20689</td>\n",
       "      <td>Groceries</td>\n",
       "      <td>Personal Care</td>\n",
       "      <td>Fem Gold Ultra Creme Bleach 30 g</td>\n",
       "      <td>76.0</td>\n",
       "    </tr>\n",
       "  </tbody>\n",
       "</table>\n",
       "</div>"
      ],
      "text/plain": [
       "            id        category      sub_category   \n",
       "100140  100140  Home & Kitchen  Garden & Outdoor  \\\n",
       "20689    20689       Groceries     Personal Care   \n",
       "\n",
       "                                                    items    price  \n",
       "100140  Kraft Seeds Rajnigandha Tuberose Flower Bulbs ...  75000.0  \n",
       "20689                    Fem Gold Ultra Creme Bleach 30 g     76.0  "
      ]
     },
     "execution_count": 4,
     "metadata": {},
     "output_type": "execute_result"
    }
   ],
   "source": [
    "df.sample(2)"
   ]
  },
  {
   "cell_type": "code",
   "execution_count": 5,
   "id": "5020f6f7-df70-4541-9318-76076a1adbb9",
   "metadata": {},
   "outputs": [
    {
     "data": {
      "text/plain": [
       "category\n",
       "Home & Kitchen    60335\n",
       "Groceries         46044\n",
       "Fashion           26101\n",
       "Electronics       19022\n",
       "Beauty            10741\n",
       "Jewellery            70\n",
       "Name: count, dtype: int64"
      ]
     },
     "execution_count": 5,
     "metadata": {},
     "output_type": "execute_result"
    }
   ],
   "source": [
    "df.category.value_counts()"
   ]
  },
  {
   "cell_type": "markdown",
   "id": "b6f4fa92-2924-4e06-9260-baa912e8b993",
   "metadata": {},
   "source": [
    "## Process mobiles and tablets"
   ]
  },
  {
   "cell_type": "code",
   "execution_count": 6,
   "id": "18e5d5a5-ff1f-44ab-b729-d67ef3a03390",
   "metadata": {},
   "outputs": [
    {
     "data": {
      "text/plain": [
       "(3810, 5)"
      ]
     },
     "execution_count": 6,
     "metadata": {},
     "output_type": "execute_result"
    }
   ],
   "source": [
    "df_mnt = df.loc[(df.category == \"Electronics\") & (df.sub_category == \"Mobiles & Tablets\")]\n",
    "df_mnt.shape"
   ]
  },
  {
   "cell_type": "code",
   "execution_count": 7,
   "id": "e4c9e3ff-4976-4526-8561-a4e1f2c8e2de",
   "metadata": {},
   "outputs": [
    {
     "data": {
      "text/plain": [
       "(100, 5)"
      ]
     },
     "execution_count": 7,
     "metadata": {},
     "output_type": "execute_result"
    }
   ],
   "source": [
    "# take sample of 100\n",
    "df_mnt = df_mnt.sample(100)\n",
    "df_mnt.shape"
   ]
  },
  {
   "cell_type": "code",
   "execution_count": 59,
   "id": "13d48813-b03f-44a5-8a33-c5bde499ac29",
   "metadata": {},
   "outputs": [
    {
     "data": {
      "text/plain": [
       "['Regor Finger Grip/Selfie Holder & Mobile Stand for iPhones & Android Smartphones (Eiffel Tower)',\n",
       " 'itek WCH003_BL 4 USB Ports 1 Amp Rapid Charge Wall Adapter',\n",
       " 'Fossil Q Gen 4 Hr FTW6015 Smart Watch, Nude',\n",
       " 'Noise Colorfit Pro 2 Full Touch Control Smart Watch (Deep Wine)',\n",
       " 'Oppo A15 32 GB, 3 GB RAM, Dynamic Black, Mobile Phone']"
      ]
     },
     "execution_count": 59,
     "metadata": {},
     "output_type": "execute_result"
    }
   ],
   "source": [
    "df_mnt[\"items\"].sample(5).tolist()"
   ]
  },
  {
   "cell_type": "markdown",
   "id": "153b8002-b94d-4b39-95d5-7f07bd2cc604",
   "metadata": {
    "jp-MarkdownHeadingCollapsed": true,
    "tags": []
   },
   "source": [
    "## Prompt Engineering\n",
    "\n",
    "Visit the [OpenAI API Playground](https://platform.openai.com/playground?mode=chat) to find the right prompts.\n",
    "\n",
    "Let's say we only care about phones and smart watches. So we have to do few things:\n",
    "1. find whether the item is a phone or a watch\n",
    "2. if its a phone, extract: \n",
    "    - brand\n",
    "    - model\n",
    "    - storage\n",
    "    - ram\n",
    "    - color\n",
    "3. if its a watch, extract: \n",
    "    - brand\n",
    "    - model\n",
    "    - size\n",
    "    - storage\n",
    "    - special_features"
   ]
  },
  {
   "cell_type": "markdown",
   "id": "eb8a852b-dc3a-4f10-b639-6ac6cf53523c",
   "metadata": {
    "tags": []
   },
   "source": [
    "### prompts cached"
   ]
  },
  {
   "cell_type": "markdown",
   "id": "b6717e5d-412c-4f20-b7c9-4ac8196e83a9",
   "metadata": {},
   "source": [
    "identify phone vs watch\n",
    "\n",
    "```\n",
    "given a product description of an electronics item, you are supposed to identify whether it is a phone or a smartwatch. if it is neither of them, return null. \n",
    "\n",
    "reply in only one word.\n",
    "\n",
    "description:\n",
    "Inclu For Lenovo K3 Note Waterproof,Artificial Leather,Scratch Resident,Magnetic Lock Holster Case\n",
    "```\n",
    "\n",
    "additions for separating case:\n",
    "```\n",
    "some examples of null categories are phone cases\n",
    "```\n",
    "```\n",
    "some of the product descriptions would appear like a phone but are a case for the phone, those should be marked as null and not phone.\n",
    "```"
   ]
  },
  {
   "cell_type": "markdown",
   "id": "99a5d4f1-c910-4677-9a41-d0e50057ee1c",
   "metadata": {},
   "source": [
    "get phone information\n",
    "```\n",
    "given a product description of a mobile phone, you are supposed to extract the following information from it in a json format:\n",
    "- brand: which brand is selling the phone\n",
    "- model: model of the specific phone\n",
    "- storage: the amount of data that can be stored in the phone\n",
    "- ram: memory of the phone\n",
    "- color\n",
    "- special_features: any other features mentioned\n",
    "\n",
    "if the entered description is not for a mobile phone, return null.\n",
    "\n",
    "create the json for the following:\n",
    "\n",
    "Redmi Note 11 Pro Plus 5G 6 BM RAM, 128 GB, Phantom White, Mobile Phone\n",
    "```"
   ]
  },
  {
   "cell_type": "markdown",
   "id": "6662f10d-1e36-4f01-9602-edaa9f091e27",
   "metadata": {},
   "source": [
    "## Process all items"
   ]
  },
  {
   "cell_type": "markdown",
   "id": "463ee0de-0695-46d6-b31f-d5ddf4040f0d",
   "metadata": {},
   "source": [
    "### Setup langchain\n",
    "\n",
    "[API reference](https://python.langchain.com/en/latest/modules/models/chat/integrations/openai.html)"
   ]
  },
  {
   "cell_type": "code",
   "execution_count": 9,
   "id": "f26f265b-7660-4ab5-aa39-2c35144aa365",
   "metadata": {},
   "outputs": [
    {
     "data": {
      "text/plain": [
       "True"
      ]
     },
     "execution_count": 9,
     "metadata": {},
     "output_type": "execute_result"
    }
   ],
   "source": [
    "# load open ai api key\n",
    "from dotenv import load_dotenv\n",
    "load_dotenv(\"../.env\")"
   ]
  },
  {
   "cell_type": "code",
   "execution_count": 10,
   "id": "e06b82bc-63dc-4ceb-804f-12149fb76883",
   "metadata": {},
   "outputs": [],
   "source": [
    "from langchain.chat_models import ChatOpenAI\n",
    "from langchain.prompts.chat import (SystemMessagePromptTemplate, \n",
    "                                    HumanMessagePromptTemplate, \n",
    "                                    ChatPromptTemplate)"
   ]
  },
  {
   "cell_type": "code",
   "execution_count": 11,
   "id": "26e32cb8-aa34-4077-bf1f-b643695b3f03",
   "metadata": {},
   "outputs": [],
   "source": [
    "def build_chat_prompt(template):\n",
    "    system_message_prompt = SystemMessagePromptTemplate.from_template(\"\")\n",
    "    user_message_prompt = HumanMessagePromptTemplate.from_template(template)\n",
    "    return ChatPromptTemplate.from_messages([\n",
    "        system_message_prompt,\n",
    "        user_message_prompt])"
   ]
  },
  {
   "cell_type": "code",
   "execution_count": 12,
   "id": "1dad7f48-6ce3-476b-9919-ae0b4aa77fd9",
   "metadata": {},
   "outputs": [],
   "source": [
    "chat = ChatOpenAI(temperature=0)"
   ]
  },
  {
   "cell_type": "markdown",
   "id": "fec43890-a6b8-483e-a59a-f6b14b5ee1f6",
   "metadata": {},
   "source": [
    "### Parse types"
   ]
  },
  {
   "cell_type": "code",
   "execution_count": 15,
   "id": "89b178de-bf9c-4f34-afa2-ad61e2b29907",
   "metadata": {},
   "outputs": [],
   "source": [
    "type_prompt = build_chat_prompt(\"\"\"\n",
    "given a product description of an electronics item, you are supposed to identify \\\n",
    "whether it is a phone or a smartwatch. if it is neither of them, return null. \n",
    "\n",
    "some of the product descriptions would appear like a phone but are other items. \\\n",
    "eg, phone cases, screen protectors. those should be marked as null and not phone.\n",
    "\n",
    "reply in only one word.\n",
    "\n",
    "description:\n",
    "{description}\n",
    "\"\"\")"
   ]
  },
  {
   "cell_type": "code",
   "execution_count": 16,
   "id": "4d5b3717-738c-40cc-b4d8-a19cbcea89f5",
   "metadata": {},
   "outputs": [
    {
     "name": "stdout",
     "output_type": "stream",
     "text": [
      "description: POCO F4 GT Back Screen Protector By Ctel, 3D Back Skin Carbon Fiber Ultra-Thin Protective Film (2 Packs) Transparent Back Cover For POCO F4 GT \n",
      "\n",
      "response: null\n"
     ]
    }
   ],
   "source": [
    "desc = df_mnt[\"items\"].sample(1).tolist()[0]\n",
    "response = chat(type_prompt.format_prompt(description=desc).to_messages())\n",
    "print(f\"description: {desc} \\n\\nresponse: {response.content}\")"
   ]
  },
  {
   "cell_type": "code",
   "execution_count": 17,
   "id": "5ba37a20-7676-48b1-8876-3aca274cb70d",
   "metadata": {},
   "outputs": [
    {
     "data": {
      "text/plain": [
       "100"
      ]
     },
     "execution_count": 17,
     "metadata": {},
     "output_type": "execute_result"
    }
   ],
   "source": [
    "# create batch messages to pass to api\n",
    "batch_messages_type = [type_prompt.format_prompt(description=desc).to_messages()\n",
    "                       for desc in df_mnt[\"items\"]]\n",
    "len(batch_messages_type)"
   ]
  },
  {
   "cell_type": "code",
   "execution_count": 18,
   "id": "abdb2efa-b2a4-4103-bc9a-f0747ee2fd1c",
   "metadata": {},
   "outputs": [
    {
     "name": "stderr",
     "output_type": "stream",
     "text": [
      "Retrying langchain.chat_models.openai.ChatOpenAI.completion_with_retry.<locals>._completion_with_retry in 1.0 seconds as it raised RateLimitError: That model is currently overloaded with other requests. You can retry your request, or contact us through our help center at help.openai.com if the error persists. (Please include the request ID 90fb8377f9632ae1f7c4dfa17e9b1366 in your message.).\n",
      "Retrying langchain.chat_models.openai.ChatOpenAI.completion_with_retry.<locals>._completion_with_retry in 1.0 seconds as it raised RateLimitError: That model is currently overloaded with other requests. You can retry your request, or contact us through our help center at help.openai.com if the error persists. (Please include the request ID e34384adf8c26d1325529e3a7618792f in your message.).\n",
      "Retrying langchain.chat_models.openai.ChatOpenAI.completion_with_retry.<locals>._completion_with_retry in 1.0 seconds as it raised RateLimitError: That model is currently overloaded with other requests. You can retry your request, or contact us through our help center at help.openai.com if the error persists. (Please include the request ID 18d37fef7be44471bdcced93039e02f7 in your message.).\n",
      "Retrying langchain.chat_models.openai.ChatOpenAI.completion_with_retry.<locals>._completion_with_retry in 1.0 seconds as it raised RateLimitError: That model is currently overloaded with other requests. You can retry your request, or contact us through our help center at help.openai.com if the error persists. (Please include the request ID b51478287230ca80fb36e4363aa0d29b in your message.).\n"
     ]
    }
   ],
   "source": [
    "response_type = chat.generate(batch_messages_type)"
   ]
  },
  {
   "cell_type": "code",
   "execution_count": 19,
   "id": "9d8e5c8f-b95b-4307-96ce-c076b16cd76b",
   "metadata": {},
   "outputs": [],
   "source": [
    "df_mnt.loc[:, \"type\"] = [x[0].text.lower() for x in response_type.generations]"
   ]
  },
  {
   "cell_type": "code",
   "execution_count": 20,
   "id": "4c866df2-acb7-411d-8c41-30f253c60eea",
   "metadata": {},
   "outputs": [
    {
     "data": {
      "text/plain": [
       "type\n",
       "null          60\n",
       "phone         27\n",
       "smartwatch    13\n",
       "Name: count, dtype: int64"
      ]
     },
     "execution_count": 20,
     "metadata": {},
     "output_type": "execute_result"
    }
   ],
   "source": [
    "df_mnt.type.value_counts()"
   ]
  },
  {
   "cell_type": "markdown",
   "id": "e53a6e0a-b354-4255-bf93-6193b6b08081",
   "metadata": {},
   "source": [
    "## Extract phone metadata"
   ]
  },
  {
   "cell_type": "code",
   "execution_count": 21,
   "id": "f1d32f5c-5b62-41b9-baf1-9e17386f5880",
   "metadata": {},
   "outputs": [
    {
     "data": {
      "text/plain": [
       "(27, 6)"
      ]
     },
     "execution_count": 21,
     "metadata": {},
     "output_type": "execute_result"
    }
   ],
   "source": [
    "df_phone = df_mnt.loc[df_mnt.type == \"phone\"]\n",
    "df_phone.shape"
   ]
  },
  {
   "cell_type": "code",
   "execution_count": 22,
   "id": "97ab093c-18ba-4079-935a-0cb636379666",
   "metadata": {},
   "outputs": [],
   "source": [
    "# initialize our results\n",
    "phone_db = {}"
   ]
  },
  {
   "cell_type": "code",
   "execution_count": 23,
   "id": "79cb3988-8257-4cd1-8218-7097d5bfa123",
   "metadata": {},
   "outputs": [],
   "source": [
    "phone_meta_prompt = build_chat_prompt(\"\"\"\n",
    "given a product description of a mobile phone, you are supposed to extract the following \\\n",
    "information from it in a json format:\n",
    "- brand\n",
    "- model: model of the specific phone\n",
    "- storage: the amount of data that can be stored in the phone\n",
    "- ram: memory of the phone\n",
    "- color\n",
    "\n",
    "create the json for the following:\n",
    "\n",
    "{description}\n",
    "\"\"\")"
   ]
  },
  {
   "cell_type": "code",
   "execution_count": 24,
   "id": "5755aa4d-03fb-4316-b6d4-0846b0a034c1",
   "metadata": {},
   "outputs": [
    {
     "name": "stdout",
     "output_type": "stream",
     "text": [
      "description: OPPO A15s 64 GB, 4 GB RAM, Dynamic Black, Mobile Phone \n",
      "\n",
      "response: {\n",
      "  \"brand\": \"OPPO\",\n",
      "  \"model\": \"A15s\",\n",
      "  \"storage\": \"64 GB\",\n",
      "  \"ram\": \"4 GB\",\n",
      "  \"color\": \"Dynamic Black\"\n",
      "}\n"
     ]
    }
   ],
   "source": [
    "desc = df_phone[\"items\"].sample(1).tolist()[0]\n",
    "response = chat(phone_meta_prompt.format_prompt(description=desc).to_messages())\n",
    "print(f\"description: {desc} \\n\\nresponse: {response.content}\")"
   ]
  },
  {
   "cell_type": "code",
   "execution_count": 25,
   "id": "22d756d1-ca22-48ec-b65a-401a3785c231",
   "metadata": {},
   "outputs": [
    {
     "data": {
      "text/plain": [
       "27"
      ]
     },
     "execution_count": 25,
     "metadata": {},
     "output_type": "execute_result"
    }
   ],
   "source": [
    "# create batch messages to pass to api\n",
    "batch_messages_phone = [phone_meta_prompt.format_prompt(description=desc).to_messages()\n",
    "                       for desc in df_phone[\"items\"]]\n",
    "len(batch_messages_phone)"
   ]
  },
  {
   "cell_type": "code",
   "execution_count": 26,
   "id": "f9cca3f0-937c-47f4-aae3-1680b7bcc2ac",
   "metadata": {},
   "outputs": [],
   "source": [
    "response_phone = chat.generate(batch_messages_phone)"
   ]
  },
  {
   "cell_type": "code",
   "execution_count": 29,
   "id": "9cade545-dc84-499f-8e1f-3d9ffca87fc6",
   "metadata": {},
   "outputs": [],
   "source": [
    "import re\n",
    "import json"
   ]
  },
  {
   "cell_type": "code",
   "execution_count": 70,
   "id": "71865e0b-2d9c-4b4a-a195-44ecd518c2fa",
   "metadata": {},
   "outputs": [],
   "source": [
    "def extract_dict(content, id):\n",
    "    try:\n",
    "        pattern = re.compile(\"(\\{(?s:.*?)\\})\")\n",
    "        json_text = pattern.search(content).group(1)\n",
    "        return {**json.loads(json_text), **{\"id\": id}}\n",
    "    except:\n",
    "        print(f\"unable to parse json for id: {id}, description: {content}, returning empty\")\n",
    "        return {}"
   ]
  },
  {
   "cell_type": "code",
   "execution_count": 51,
   "id": "4fb02fbd-16be-4ea2-8403-45759c68cb05",
   "metadata": {},
   "outputs": [],
   "source": [
    "df_phone_meta = pd.DataFrame([\n",
    "    extract_dict(x[0].text, id)\n",
    "    for id, x in zip(df_phone.id, response_phone.generations)])\\\n",
    "    .merge(df_mnt[[\"id\", \"items\"]], how=\"left\", on=[\"id\"])"
   ]
  },
  {
   "cell_type": "code",
   "execution_count": 54,
   "id": "8edfc6b3-5449-4629-8f29-8327862de50c",
   "metadata": {},
   "outputs": [
    {
     "data": {
      "text/html": [
       "<div>\n",
       "<style scoped>\n",
       "    .dataframe tbody tr th:only-of-type {\n",
       "        vertical-align: middle;\n",
       "    }\n",
       "\n",
       "    .dataframe tbody tr th {\n",
       "        vertical-align: top;\n",
       "    }\n",
       "\n",
       "    .dataframe thead th {\n",
       "        text-align: right;\n",
       "    }\n",
       "</style>\n",
       "<table border=\"1\" class=\"dataframe\">\n",
       "  <thead>\n",
       "    <tr style=\"text-align: right;\">\n",
       "      <th></th>\n",
       "      <th>brand</th>\n",
       "      <th>model</th>\n",
       "      <th>storage</th>\n",
       "      <th>ram</th>\n",
       "      <th>color</th>\n",
       "      <th>id</th>\n",
       "      <th>items</th>\n",
       "    </tr>\n",
       "  </thead>\n",
       "  <tbody>\n",
       "    <tr>\n",
       "      <th>22</th>\n",
       "      <td>Redmi</td>\n",
       "      <td>Note 10S</td>\n",
       "      <td>64 GB</td>\n",
       "      <td>6 GB</td>\n",
       "      <td>Frost White</td>\n",
       "      <td>133029</td>\n",
       "      <td>Redmi Note 10S 64 GB, 6 GB RAM, Frost White, M...</td>\n",
       "    </tr>\n",
       "    <tr>\n",
       "      <th>4</th>\n",
       "      <td>Apple</td>\n",
       "      <td>iPhone 13 Pro</td>\n",
       "      <td>512 GB</td>\n",
       "      <td>Not specified</td>\n",
       "      <td>Green</td>\n",
       "      <td>132766</td>\n",
       "      <td>Apple iPhone 13 Pro 512 GB, Green</td>\n",
       "    </tr>\n",
       "    <tr>\n",
       "      <th>25</th>\n",
       "      <td>Xiaomi</td>\n",
       "      <td>Redmi 10 Prime</td>\n",
       "      <td>128 GB</td>\n",
       "      <td>6 GB</td>\n",
       "      <td>Astral White</td>\n",
       "      <td>132831</td>\n",
       "      <td>Xiaomi Redmi 10 Prime 128 GB, 6 GB RAM, Astral...</td>\n",
       "    </tr>\n",
       "    <tr>\n",
       "      <th>21</th>\n",
       "      <td>Samsung</td>\n",
       "      <td>Galaxy Z Series Fold3 5G</td>\n",
       "      <td>256 GB</td>\n",
       "      <td>12 GB</td>\n",
       "      <td>Phantom Green</td>\n",
       "      <td>132871</td>\n",
       "      <td>Samsung Galaxy Z Series Fold3 5G 256 GB, 12 GB...</td>\n",
       "    </tr>\n",
       "    <tr>\n",
       "      <th>12</th>\n",
       "      <td>Redmi</td>\n",
       "      <td>Note 10S</td>\n",
       "      <td>128 GB</td>\n",
       "      <td>6 GB</td>\n",
       "      <td>Frost White</td>\n",
       "      <td>133079</td>\n",
       "      <td>Redmi Note 10S 128 GB, 6 GB RAM, Frost White, ...</td>\n",
       "    </tr>\n",
       "  </tbody>\n",
       "</table>\n",
       "</div>"
      ],
      "text/plain": [
       "      brand                     model storage            ram          color   \n",
       "22    Redmi                  Note 10S   64 GB           6 GB    Frost White  \\\n",
       "4     Apple             iPhone 13 Pro  512 GB  Not specified          Green   \n",
       "25   Xiaomi            Redmi 10 Prime  128 GB           6 GB   Astral White   \n",
       "21  Samsung  Galaxy Z Series Fold3 5G  256 GB          12 GB  Phantom Green   \n",
       "12    Redmi                  Note 10S  128 GB           6 GB    Frost White   \n",
       "\n",
       "        id                                              items  \n",
       "22  133029  Redmi Note 10S 64 GB, 6 GB RAM, Frost White, M...  \n",
       "4   132766                  Apple iPhone 13 Pro 512 GB, Green  \n",
       "25  132831  Xiaomi Redmi 10 Prime 128 GB, 6 GB RAM, Astral...  \n",
       "21  132871  Samsung Galaxy Z Series Fold3 5G 256 GB, 12 GB...  \n",
       "12  133079  Redmi Note 10S 128 GB, 6 GB RAM, Frost White, ...  "
      ]
     },
     "execution_count": 54,
     "metadata": {},
     "output_type": "execute_result"
    }
   ],
   "source": [
    "df_phone_meta.sample(5)"
   ]
  },
  {
   "cell_type": "markdown",
   "id": "3b9d3304-8f58-4508-b948-1802ab1a1617",
   "metadata": {},
   "source": [
    "## Extract smartwatch metadata"
   ]
  },
  {
   "cell_type": "code",
   "execution_count": 55,
   "id": "70592e41-34a3-44b2-a5fb-59fc96508d48",
   "metadata": {},
   "outputs": [
    {
     "data": {
      "text/plain": [
       "(13, 6)"
      ]
     },
     "execution_count": 55,
     "metadata": {},
     "output_type": "execute_result"
    }
   ],
   "source": [
    "df_watch = df_mnt.loc[df_mnt.type == \"smartwatch\"]\n",
    "df_watch.shape"
   ]
  },
  {
   "cell_type": "code",
   "execution_count": 62,
   "id": "02fc152b-be47-4159-94d4-bc05f06cb72b",
   "metadata": {},
   "outputs": [],
   "source": [
    "watch_meta_prompt = build_chat_prompt(\"\"\"\n",
    "given a product description of a smart watch, you are supposed to extract the following \\\n",
    "information from it in a json format:\n",
    "- brand\n",
    "- model: model of the specific watch\n",
    "- size\n",
    "- ram: memory of the phone\n",
    "- color\n",
    "- special_features: any additional features mentioned\n",
    "\n",
    "if any value is missing, return null. \n",
    "\n",
    "create the json for the following:\n",
    "\n",
    "{description}\n",
    "\"\"\")"
   ]
  },
  {
   "cell_type": "code",
   "execution_count": 63,
   "id": "d92e6e88-255f-4d33-bbad-bf142a4d89e4",
   "metadata": {},
   "outputs": [
    {
     "name": "stdout",
     "output_type": "stream",
     "text": [
      "description: Samsung Galaxy Fit Lite SM-R375 Fitness Band, Black \n",
      "\n",
      "response: {\n",
      "  \"brand\": \"Samsung\",\n",
      "  \"model\": \"Galaxy Fit Lite SM-R375\",\n",
      "  \"size\": null,\n",
      "  \"ram\": null,\n",
      "  \"color\": \"Black\",\n",
      "  \"special_features\": \"Fitness Band\"\n",
      "}\n"
     ]
    }
   ],
   "source": [
    "desc = df_watch[\"items\"].sample(1).tolist()[0]\n",
    "response = chat(watch_meta_prompt.format_prompt(description=desc).to_messages())\n",
    "print(f\"description: {desc} \\n\\nresponse: {response.content}\")"
   ]
  },
  {
   "cell_type": "code",
   "execution_count": 64,
   "id": "f067023b-18ad-4a65-a5a4-5ad52895446c",
   "metadata": {},
   "outputs": [
    {
     "data": {
      "text/plain": [
       "13"
      ]
     },
     "execution_count": 64,
     "metadata": {},
     "output_type": "execute_result"
    }
   ],
   "source": [
    "# create batch messages to pass to api\n",
    "batch_messages_watch = [watch_meta_prompt.format_prompt(description=desc).to_messages()\n",
    "                       for desc in df_watch[\"items\"]]\n",
    "len(batch_messages_watch)"
   ]
  },
  {
   "cell_type": "code",
   "execution_count": 65,
   "id": "4f23fd95-55db-40fa-a7aa-12e9d759a3cc",
   "metadata": {},
   "outputs": [],
   "source": [
    "response_watch = chat.generate(batch_messages_watch)"
   ]
  },
  {
   "cell_type": "code",
   "execution_count": 71,
   "id": "0202f46c-6d9c-47f4-92a7-2df067b5676f",
   "metadata": {},
   "outputs": [
    {
     "name": "stdout",
     "output_type": "stream",
     "text": [
      "unable to parse json for id: 133921, description: {\n",
      "  \"brand\": \"Apple\",\n",
      "  \"model\": \"Watch Series SE GPS + Cellular\",\n",
      "  \"size\": \"40 mm\",\n",
      "  \"ram\": null,\n",
      "  \"color\": {\n",
      "    \"case\": \"Silver Aluminum\",\n",
      "    \"band\": \"Abyss Blue Sport\"\n",
      "  },\n",
      "  \"special_features\": [\n",
      "    \"GPS\",\n",
      "    \"Cellular connectivity\"\n",
      "  ]\n",
      "}, returning empty\n"
     ]
    }
   ],
   "source": [
    "df_watch_meta = pd.DataFrame([\n",
    "    extract_dict(x[0].text, id)\n",
    "    for id, x in zip(df_watch.id, response_watch.generations)])\\\n",
    "    .merge(df_mnt[[\"id\", \"items\"]], how=\"left\", on=[\"id\"])"
   ]
  },
  {
   "cell_type": "code",
   "execution_count": 72,
   "id": "5e7cebf3-4c10-4d5a-b466-1109d4edd7dc",
   "metadata": {},
   "outputs": [
    {
     "data": {
      "text/html": [
       "<div>\n",
       "<style scoped>\n",
       "    .dataframe tbody tr th:only-of-type {\n",
       "        vertical-align: middle;\n",
       "    }\n",
       "\n",
       "    .dataframe tbody tr th {\n",
       "        vertical-align: top;\n",
       "    }\n",
       "\n",
       "    .dataframe thead th {\n",
       "        text-align: right;\n",
       "    }\n",
       "</style>\n",
       "<table border=\"1\" class=\"dataframe\">\n",
       "  <thead>\n",
       "    <tr style=\"text-align: right;\">\n",
       "      <th></th>\n",
       "      <th>brand</th>\n",
       "      <th>model</th>\n",
       "      <th>size</th>\n",
       "      <th>ram</th>\n",
       "      <th>color</th>\n",
       "      <th>special_features</th>\n",
       "      <th>id</th>\n",
       "      <th>items</th>\n",
       "    </tr>\n",
       "  </thead>\n",
       "  <tbody>\n",
       "    <tr>\n",
       "      <th>8</th>\n",
       "      <td>Noise</td>\n",
       "      <td>Colorfit Pro 2</td>\n",
       "      <td>None</td>\n",
       "      <td>NaN</td>\n",
       "      <td>Deep Wine</td>\n",
       "      <td>Full Touch Control</td>\n",
       "      <td>133399.0</td>\n",
       "      <td>Noise Colorfit Pro 2 Full Touch Control Smart ...</td>\n",
       "    </tr>\n",
       "    <tr>\n",
       "      <th>2</th>\n",
       "      <td>Fossil</td>\n",
       "      <td>Q Gen 4 Hr FTW6015</td>\n",
       "      <td>None</td>\n",
       "      <td>NaN</td>\n",
       "      <td>Nude</td>\n",
       "      <td>None</td>\n",
       "      <td>134024.0</td>\n",
       "      <td>Fossil Q Gen 4 Hr FTW6015 Smart Watch, Nude</td>\n",
       "    </tr>\n",
       "    <tr>\n",
       "      <th>1</th>\n",
       "      <td>Pebble</td>\n",
       "      <td>Revo Smartwatch</td>\n",
       "      <td>1.3\"</td>\n",
       "      <td>NaN</td>\n",
       "      <td>Black</td>\n",
       "      <td>[HD Touchscreen, Bluetooth Calling, Rolling UI...</td>\n",
       "      <td>133813.0</td>\n",
       "      <td>Pebble Revo Smartwatch, 1.3\" HD Touchscreen, B...</td>\n",
       "    </tr>\n",
       "    <tr>\n",
       "      <th>10</th>\n",
       "      <td>Samsung</td>\n",
       "      <td>Watch 4 Classic LTE</td>\n",
       "      <td>42 mm</td>\n",
       "      <td>NaN</td>\n",
       "      <td>Black</td>\n",
       "      <td>[Smartwatch with Bluetooth Connectivity, IP68 ...</td>\n",
       "      <td>133872.0</td>\n",
       "      <td>Samsung Watch 4 Classic LTE 42 mm Smartwatch w...</td>\n",
       "    </tr>\n",
       "    <tr>\n",
       "      <th>3</th>\n",
       "      <td>Amazfit</td>\n",
       "      <td>Huami GTS A1914</td>\n",
       "      <td>None</td>\n",
       "      <td>NaN</td>\n",
       "      <td>Obsidian Black</td>\n",
       "      <td>None</td>\n",
       "      <td>133984.0</td>\n",
       "      <td>Amazfit Huami GTS A1914 Smart Watch, Obsidian ...</td>\n",
       "    </tr>\n",
       "  </tbody>\n",
       "</table>\n",
       "</div>"
      ],
      "text/plain": [
       "      brand                model   size  ram           color   \n",
       "8     Noise       Colorfit Pro 2   None  NaN       Deep Wine  \\\n",
       "2    Fossil   Q Gen 4 Hr FTW6015   None  NaN            Nude   \n",
       "1    Pebble      Revo Smartwatch   1.3\"  NaN           Black   \n",
       "10  Samsung  Watch 4 Classic LTE  42 mm  NaN           Black   \n",
       "3   Amazfit      Huami GTS A1914   None  NaN  Obsidian Black   \n",
       "\n",
       "                                     special_features        id   \n",
       "8                                  Full Touch Control  133399.0  \\\n",
       "2                                                None  134024.0   \n",
       "1   [HD Touchscreen, Bluetooth Calling, Rolling UI...  133813.0   \n",
       "10  [Smartwatch with Bluetooth Connectivity, IP68 ...  133872.0   \n",
       "3                                                None  133984.0   \n",
       "\n",
       "                                                items  \n",
       "8   Noise Colorfit Pro 2 Full Touch Control Smart ...  \n",
       "2         Fossil Q Gen 4 Hr FTW6015 Smart Watch, Nude  \n",
       "1   Pebble Revo Smartwatch, 1.3\" HD Touchscreen, B...  \n",
       "10  Samsung Watch 4 Classic LTE 42 mm Smartwatch w...  \n",
       "3   Amazfit Huami GTS A1914 Smart Watch, Obsidian ...  "
      ]
     },
     "execution_count": 72,
     "metadata": {},
     "output_type": "execute_result"
    }
   ],
   "source": [
    "df_watch_meta.sample(5)"
   ]
  },
  {
   "cell_type": "markdown",
   "id": "7fa8337e-9305-4869-8075-af7b5331c58d",
   "metadata": {
    "tags": []
   },
   "source": [
    "### What did this cost us?"
   ]
  },
  {
   "cell_type": "markdown",
   "id": "4612c4fb-ab4a-41bb-a882-77b4035579ff",
   "metadata": {},
   "source": [
    "As per the [pricing](https://openai.com/pricing#language-models) documentation of Open AI, the gpt-3.5-turbo api is charged at \\\\$0.001 for every 1K tokens. Below we can see that we used 201068 tokens in total, resulting in a total cost of **\\\\$0.40**. This is fairly low, but we only passed in a 1000 tweets. The cost would ramp up as we analyze more data."
   ]
  },
  {
   "cell_type": "code",
   "execution_count": 77,
   "id": "6cf852a3-0070-4fc1-8a9d-3149d30ae97e",
   "metadata": {},
   "outputs": [
    {
     "data": {
      "text/plain": [
       "{'token_usage': {'prompt_tokens': 2781,\n",
       "  'completion_tokens': 1232,\n",
       "  'total_tokens': 4013},\n",
       " 'model_name': 'gpt-3.5-turbo'}"
      ]
     },
     "execution_count": 77,
     "metadata": {},
     "output_type": "execute_result"
    }
   ],
   "source": [
    "response_phone.llm_output"
   ]
  },
  {
   "cell_type": "code",
   "execution_count": 80,
   "id": "e8f5866f-75c5-43b4-ab74-4c6c675ce4c2",
   "metadata": {},
   "outputs": [
    {
     "name": "stdout",
     "output_type": "stream",
     "text": [
      "Totak cost: $0.035332\n"
     ]
    }
   ],
   "source": [
    "all_results = [response_type, response_phone, response_watch]\n",
    "total_tokens = sum([response.llm_output[\"token_usage\"][\"total_tokens\"] for response in all_results])\n",
    "cost = total_tokens / 1000 * 0.002\n",
    "print(f\"Totak cost: ${cost}\")"
   ]
  },
  {
   "cell_type": "code",
   "execution_count": null,
   "id": "e0e3c3b8-01ac-409a-b665-7581ecda59e8",
   "metadata": {},
   "outputs": [],
   "source": []
  }
 ],
 "metadata": {
  "kernelspec": {
   "display_name": "llm-playbook",
   "language": "python",
   "name": "llm-playbook"
  },
  "language_info": {
   "codemirror_mode": {
    "name": "ipython",
    "version": 3
   },
   "file_extension": ".py",
   "mimetype": "text/x-python",
   "name": "python",
   "nbconvert_exporter": "python",
   "pygments_lexer": "ipython3",
   "version": "3.9.0"
  }
 },
 "nbformat": 4,
 "nbformat_minor": 5
}
